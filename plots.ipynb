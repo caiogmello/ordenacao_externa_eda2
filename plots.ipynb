{
 "cells": [
  {
   "cell_type": "code",
   "execution_count": 179,
   "metadata": {},
   "outputs": [],
   "source": [
    "import matplotlib.pyplot as plt\n",
    "from FileManager import fileManager\n",
    "from Registro import Registro\n",
    "from Ordenador import Ordenador\n",
    "import sys\n",
    "from tqdm import tqdm"
   ]
  },
  {
   "cell_type": "code",
   "execution_count": 185,
   "metadata": {},
   "outputs": [
    {
     "name": "stdout",
     "output_type": "stream",
     "text": [
      "The autoreload extension is already loaded. To reload it, use:\n",
      "  %reload_ext autoreload\n"
     ]
    }
   ],
   "source": [
    "%load_ext autoreload\n",
    "%autoreload 2"
   ]
  },
  {
   "cell_type": "code",
   "execution_count": 193,
   "metadata": {},
   "outputs": [],
   "source": [
    "possibles_r  = [i*j for i in range(1,11) for j in range(10,1001,10) if i*j <= 5000]\n",
    "sett = set(possibles_r)\n",
    "possibles_r = sorted(list(sett))"
   ]
  },
  {
   "cell_type": "code",
   "execution_count": 194,
   "metadata": {},
   "outputs": [],
   "source": [
    "m = [3,15,30,45,60]\n",
    "k = [4,6,8,10,12]"
   ]
  },
  {
   "cell_type": "code",
   "execution_count": 180,
   "metadata": {},
   "outputs": [],
   "source": [
    "def getAlphaDict(r: list, k:list, n:int, m:int, ordenador: Ordenador, mode:str):\n",
    "    dct = {}\n",
    "    for i in tqdm(r):\n",
    "        for j in k:\n",
    "            alpha_total = 0\n",
    "            if i not in dct:  \n",
    "                dct[i] = {}\n",
    "            if j not in dct[i]:\n",
    "                dct[i][j] = {}\n",
    "            for l in range(1, 11):\n",
    "                ordenador.ordenar(mode, m, j, i, n, None, True, False)\n",
    "                alpha_total += ordenador.alpha\n",
    "\n",
    "            dct[i][j] = round(alpha_total/10,4)\n",
    "\n",
    "    return dct    "
   ]
  },
  {
   "cell_type": "code",
   "execution_count": 182,
   "metadata": {},
   "outputs": [],
   "source": [
    "def getBetaDict(r: list, k:int, n:int, m:list, ordenador: Ordenador, mode:str):\n",
    "    dct = {}\n",
    "    for i in tqdm(r):\n",
    "        for j in m:\n",
    "            beta0_total = 0\n",
    "            if i not in dct:  \n",
    "                dct[i] = {}\n",
    "            if j not in dct[i]:\n",
    "                dct[i][j] = {}\n",
    "            for l in range(1, 11):\n",
    "                ordenador.ordenar(mode, j, k, i, n, None, True, False)\n",
    "                beta0_total_total += ordenador.betas[0]\n",
    "\n",
    "            dct[i][j] = round(beta0_total_total/10,4)\n",
    "\n",
    "    return dct    "
   ]
  },
  {
   "cell_type": "markdown",
   "metadata": {},
   "source": [
    "## Alphas para cada método"
   ]
  },
  {
   "cell_type": "markdown",
   "metadata": {},
   "source": [
    "Multicaminhos: nao ta funcionando ainda"
   ]
  },
  {
   "cell_type": "code",
   "execution_count": null,
   "metadata": {},
   "outputs": [],
   "source": [
    "# dctt_alpha_B = getAlphaDict(possibles_r,k,100000, 3, Ordenador(), \"B\")"
   ]
  },
  {
   "cell_type": "markdown",
   "metadata": {},
   "source": [
    "Polifasica"
   ]
  },
  {
   "cell_type": "code",
   "execution_count": 202,
   "metadata": {},
   "outputs": [
    {
     "name": "stderr",
     "output_type": "stream",
     "text": [
      "  0%|          | 0/351 [00:00<?, ?it/s]"
     ]
    },
    {
     "name": "stderr",
     "output_type": "stream",
     "text": [
      " 34%|███▍      | 120/351 [04:50<23:58,  6.23s/it]"
     ]
    }
   ],
   "source": [
    "dctt_alpha_P = getAlphaDict(possibles_r,k,100000, 3, Ordenador(), \"P\")"
   ]
  },
  {
   "cell_type": "code",
   "execution_count": null,
   "metadata": {},
   "outputs": [],
   "source": [
    "import json"
   ]
  },
  {
   "cell_type": "code",
   "execution_count": null,
   "metadata": {},
   "outputs": [],
   "source": [
    "json.dump(dctt_alpha_P, open(\"dctt_alpha_P.json\", \"w\"))"
   ]
  },
  {
   "cell_type": "markdown",
   "metadata": {},
   "source": [
    "Cascata"
   ]
  },
  {
   "cell_type": "code",
   "execution_count": null,
   "metadata": {},
   "outputs": [],
   "source": [
    "dctt_alpha_C = getAlphaDict(possibles_r,k,100000, 3, Ordenador(), \"C\")"
   ]
  },
  {
   "cell_type": "code",
   "execution_count": null,
   "metadata": {},
   "outputs": [],
   "source": [
    "json.dump(dctt_alpha_C, open(\"dctt_alpha_C.json\", \"w\"))"
   ]
  },
  {
   "cell_type": "markdown",
   "metadata": {},
   "source": [
    "## Beta(m, 0) para cada método"
   ]
  },
  {
   "cell_type": "markdown",
   "metadata": {},
   "source": [
    "multiCaminhos: n ta funcionando"
   ]
  },
  {
   "cell_type": "code",
   "execution_count": null,
   "metadata": {},
   "outputs": [],
   "source": [
    "# dctt_betas0_B = getBetaDict(possibles_r,6,100000,m, Ordenador(), \"B\")"
   ]
  },
  {
   "cell_type": "markdown",
   "metadata": {},
   "source": [
    "Polifasica"
   ]
  },
  {
   "cell_type": "code",
   "execution_count": null,
   "metadata": {},
   "outputs": [],
   "source": [
    "dctt_betas0_P = getBetaDict(possibles_r,6,100000,m, Ordenador(), \"P\")"
   ]
  },
  {
   "cell_type": "code",
   "execution_count": null,
   "metadata": {},
   "outputs": [],
   "source": [
    "json.dump(dctt_betas0_P, open(\"dctt_betas0_P.json\", \"w\"))"
   ]
  },
  {
   "cell_type": "markdown",
   "metadata": {},
   "source": [
    "Cascata"
   ]
  },
  {
   "cell_type": "code",
   "execution_count": null,
   "metadata": {},
   "outputs": [],
   "source": [
    "dctt_betas0_C = getBetaDict(possibles_r,6,100000,m, Ordenador(), \"C\")"
   ]
  },
  {
   "cell_type": "code",
   "execution_count": null,
   "metadata": {},
   "outputs": [],
   "source": [
    "json.dump(dctt_betas0_C, open(\"dctt_betas0_C.json\", \"w\"))"
   ]
  }
 ],
 "metadata": {
  "kernelspec": {
   "display_name": "Python 3",
   "language": "python",
   "name": "python3"
  },
  "language_info": {
   "codemirror_mode": {
    "name": "ipython",
    "version": 3
   },
   "file_extension": ".py",
   "mimetype": "text/x-python",
   "name": "python",
   "nbconvert_exporter": "python",
   "pygments_lexer": "ipython3",
   "version": "3.10.12"
  }
 },
 "nbformat": 4,
 "nbformat_minor": 2
}
