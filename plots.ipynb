{
 "cells": [
  {
   "cell_type": "code",
   "execution_count": 75,
   "metadata": {},
   "outputs": [],
   "source": [
    "import matplotlib.pyplot as plt\n",
    "from FileManager import fileManager\n",
    "from Registro import Registro\n",
    "from Ordenador import Ordenador\n",
    "import sys"
   ]
  },
  {
   "cell_type": "code",
   "execution_count": 76,
   "metadata": {},
   "outputs": [
    {
     "name": "stdout",
     "output_type": "stream",
     "text": [
      "The autoreload extension is already loaded. To reload it, use:\n",
      "  %reload_ext autoreload\n"
     ]
    }
   ],
   "source": [
    "%load_ext autoreload\n",
    "%autoreload 2"
   ]
  },
  {
   "cell_type": "code",
   "execution_count": 77,
   "metadata": {},
   "outputs": [],
   "source": [
    "mode, specs, values = fileManager.read('hard_example')\n"
   ]
  },
  {
   "cell_type": "code",
   "execution_count": 78,
   "metadata": {},
   "outputs": [],
   "source": [
    "ordenador = Ordenador()"
   ]
  },
  {
   "cell_type": "code",
   "execution_count": 80,
   "metadata": {},
   "outputs": [
    {
     "name": "stdout",
     "output_type": "stream",
     "text": [
      "Fase 0 1.14\n",
      "1: {10 20 30}{1 6 11 16 21 26}{5 6 7}\n",
      "2: {5 15 25}{12 13 14}\n",
      "3: {2 12 22}{8 9 10}\n",
      "Fase 1 2.67\n",
      "1: {5 6 7}\n",
      "4: {2 5 10 12 15 20 22 25 30}{1 6 8 9 10 11 12 13 14 16 21 26}\n",
      "Fase 2 4.00\n",
      "2: {2 5 5 6 7 10 12 15 20 22 25 30}\n",
      "4: {1 6 8 9 10 11 12 13 14 16 21 26}\n",
      "Fase 3 8.00\n",
      "1: {1 2 5 5 6 6 7 8 9 10 10 11 12 12 13 14 15 16 20 21 22 25 26 30}\n",
      "Final 2.38\n"
     ]
    }
   ],
   "source": [
    "ordenador.ordenar(mode, specs[0], specs[1], specs[2], specs[3], values)"
   ]
  },
  {
   "cell_type": "code",
   "execution_count": 81,
   "metadata": {},
   "outputs": [
    {
     "data": {
      "text/plain": [
       "[1.1428571428571428, 2.6666666666666665, 4.0, 8.0]"
      ]
     },
     "execution_count": 81,
     "metadata": {},
     "output_type": "execute_result"
    }
   ],
   "source": [
    "ordenador.betas"
   ]
  },
  {
   "cell_type": "code",
   "execution_count": 82,
   "metadata": {},
   "outputs": [
    {
     "data": {
      "text/plain": [
       "2.375"
      ]
     },
     "execution_count": 82,
     "metadata": {},
     "output_type": "execute_result"
    }
   ],
   "source": [
    "ordenador.alpha"
   ]
  },
  {
   "cell_type": "code",
   "execution_count": 83,
   "metadata": {},
   "outputs": [
    {
     "data": {
      "text/plain": [
       "[deque([deque([1, 2, 5, 5, 6, 6, 7, 8, 9, 10, 10, 11, 12, 12, 13, 14, 15, 16, 20, 21, 22, 25, 26, 30])])]"
      ]
     },
     "execution_count": 83,
     "metadata": {},
     "output_type": "execute_result"
    }
   ],
   "source": [
    "ordenador.paginaFinal"
   ]
  },
  {
   "cell_type": "code",
   "execution_count": 124,
   "metadata": {},
   "outputs": [],
   "source": [
    "import random"
   ]
  },
  {
   "cell_type": "code",
   "execution_count": 125,
   "metadata": {},
   "outputs": [],
   "source": [
    "n = 10000\n",
    "usados = [0]*n\n"
   ]
  },
  {
   "cell_type": "code",
   "execution_count": 126,
   "metadata": {},
   "outputs": [],
   "source": [
    "r = 10"
   ]
  },
  {
   "cell_type": "code",
   "execution_count": 127,
   "metadata": {},
   "outputs": [],
   "source": [
    "sequencias = []"
   ]
  },
  {
   "cell_type": "code",
   "execution_count": 130,
   "metadata": {},
   "outputs": [],
   "source": [
    "sequencia = []\n",
    "while(len(sequencias)<r):\n",
    "    valor = random.randint(1,n)\n",
    "    # print(valor)\n",
    "    if usados[valor-1] == 1:\n",
    "        continue\n",
    "    else:\n",
    "        if(len(sequencia)==0):\n",
    "            sequencia.append(valor)\n",
    "            usados[valor-1] = 1\n",
    "        else:\n",
    "            if(sequencia[-1] < valor):\n",
    "                print('entrou')\n",
    "                sequencia.append(valor)\n",
    "                usados[valor-1] = 1\n",
    "            else:\n",
    "                print('else')\n",
    "                sequencias.append(sequencia)\n",
    "                sequencia = []\n",
    "    # print(len(sequencias))"
   ]
  },
  {
   "cell_type": "code",
   "execution_count": 131,
   "metadata": {},
   "outputs": [
    {
     "data": {
      "text/plain": [
       "[[5318],\n",
       " [6909],\n",
       " [3711, 5485],\n",
       " [2958],\n",
       " [8973],\n",
       " [5478, 8905],\n",
       " [8874],\n",
       " [9596, 9672],\n",
       " [1768, 4338, 5020, 7587],\n",
       " [9801]]"
      ]
     },
     "execution_count": 131,
     "metadata": {},
     "output_type": "execute_result"
    }
   ],
   "source": [
    "sequencias"
   ]
  },
  {
   "cell_type": "code",
   "execution_count": 214,
   "metadata": {},
   "outputs": [],
   "source": [
    "def gerarRSequencias(n, r):\n",
    "    import random\n",
    "    from Registro import Registro\n",
    "    from collections import deque\n",
    "    \n",
    "    usados = [0]*n\n",
    "\n",
    "    sequencias = deque()\n",
    "    sequencia = []\n",
    "    while(len(sequencias)<r):\n",
    "        valor = random.randint(1,n)\n",
    "        if usados[valor-1] == 1:\n",
    "            continue\n",
    "        else:\n",
    "            if(len(sequencia)==0):\n",
    "                sequencia.append(Registro(valor))\n",
    "                usados[valor-1] = 1\n",
    "            else:\n",
    "                if(sequencia[-1].value < Registro(valor).value):\n",
    "                    sequencia.append(Registro(valor))\n",
    "                    usados[valor-1] = 1\n",
    "                else:\n",
    "                    sequencias.append(sequencia)\n",
    "                    sequencia = []\n",
    "\n",
    "    return sequencias\n"
   ]
  },
  {
   "cell_type": "code",
   "execution_count": 225,
   "metadata": {},
   "outputs": [
    {
     "data": {
      "text/plain": [
       "deque([[8413],\n",
       "       [4419],\n",
       "       [4391],\n",
       "       [2351, 3492, 7514],\n",
       "       [8236],\n",
       "       [740, 9045],\n",
       "       [7277],\n",
       "       [123, 7685],\n",
       "       [8330, 9601],\n",
       "       [1958, 4793]])"
      ]
     },
     "execution_count": 225,
     "metadata": {},
     "output_type": "execute_result"
    }
   ],
   "source": [
    "gerarRSequencias(10000, 10)"
   ]
  },
  {
   "cell_type": "code",
   "execution_count": 212,
   "metadata": {},
   "outputs": [],
   "source": [
    "possibles_r  = [i*j for i in range(1,11) for j in range(10,1001,10) if i*j <= 5000]\n",
    "sett = set(possibles_r)"
   ]
  },
  {
   "cell_type": "code",
   "execution_count": 213,
   "metadata": {},
   "outputs": [
    {
     "data": {
      "text/plain": [
       "{10,\n",
       " 20,\n",
       " 30,\n",
       " 40,\n",
       " 50,\n",
       " 60,\n",
       " 70,\n",
       " 80,\n",
       " 90,\n",
       " 100,\n",
       " 110,\n",
       " 120,\n",
       " 130,\n",
       " 140,\n",
       " 150,\n",
       " 160,\n",
       " 170,\n",
       " 180,\n",
       " 190,\n",
       " 200,\n",
       " 210,\n",
       " 220,\n",
       " 230,\n",
       " 240,\n",
       " 250,\n",
       " 260,\n",
       " 270,\n",
       " 280,\n",
       " 290,\n",
       " 300,\n",
       " 310,\n",
       " 320,\n",
       " 330,\n",
       " 340,\n",
       " 350,\n",
       " 360,\n",
       " 370,\n",
       " 380,\n",
       " 390,\n",
       " 400,\n",
       " 410,\n",
       " 420,\n",
       " 430,\n",
       " 440,\n",
       " 450,\n",
       " 460,\n",
       " 470,\n",
       " 480,\n",
       " 490,\n",
       " 500,\n",
       " 510,\n",
       " 520,\n",
       " 530,\n",
       " 540,\n",
       " 550,\n",
       " 560,\n",
       " 570,\n",
       " 580,\n",
       " 590,\n",
       " 600,\n",
       " 610,\n",
       " 620,\n",
       " 630,\n",
       " 640,\n",
       " 650,\n",
       " 660,\n",
       " 670,\n",
       " 680,\n",
       " 690,\n",
       " 700,\n",
       " 710,\n",
       " 720,\n",
       " 730,\n",
       " 740,\n",
       " 750,\n",
       " 760,\n",
       " 770,\n",
       " 780,\n",
       " 790,\n",
       " 800,\n",
       " 810,\n",
       " 820,\n",
       " 830,\n",
       " 840,\n",
       " 850,\n",
       " 860,\n",
       " 870,\n",
       " 880,\n",
       " 890,\n",
       " 900,\n",
       " 910,\n",
       " 920,\n",
       " 930,\n",
       " 940,\n",
       " 950,\n",
       " 960,\n",
       " 970,\n",
       " 980,\n",
       " 990,\n",
       " 1000,\n",
       " 1020,\n",
       " 1040,\n",
       " 1050,\n",
       " 1060,\n",
       " 1080,\n",
       " 1100,\n",
       " 1110,\n",
       " 1120,\n",
       " 1140,\n",
       " 1150,\n",
       " 1160,\n",
       " 1170,\n",
       " 1180,\n",
       " 1190,\n",
       " 1200,\n",
       " 1220,\n",
       " 1230,\n",
       " 1240,\n",
       " 1250,\n",
       " 1260,\n",
       " 1280,\n",
       " 1290,\n",
       " 1300,\n",
       " 1320,\n",
       " 1330,\n",
       " 1340,\n",
       " 1350,\n",
       " 1360,\n",
       " 1380,\n",
       " 1400,\n",
       " 1410,\n",
       " 1420,\n",
       " 1440,\n",
       " 1450,\n",
       " 1460,\n",
       " 1470,\n",
       " 1480,\n",
       " 1500,\n",
       " 1520,\n",
       " 1530,\n",
       " 1540,\n",
       " 1550,\n",
       " 1560,\n",
       " 1580,\n",
       " 1590,\n",
       " 1600,\n",
       " 1610,\n",
       " 1620,\n",
       " 1640,\n",
       " 1650,\n",
       " 1660,\n",
       " 1680,\n",
       " 1700,\n",
       " 1710,\n",
       " 1720,\n",
       " 1740,\n",
       " 1750,\n",
       " 1760,\n",
       " 1770,\n",
       " 1780,\n",
       " 1800,\n",
       " 1820,\n",
       " 1830,\n",
       " 1840,\n",
       " 1850,\n",
       " 1860,\n",
       " 1880,\n",
       " 1890,\n",
       " 1900,\n",
       " 1920,\n",
       " 1940,\n",
       " 1950,\n",
       " 1960,\n",
       " 1980,\n",
       " 2000,\n",
       " 2010,\n",
       " 2030,\n",
       " 2040,\n",
       " 2050,\n",
       " 2070,\n",
       " 2080,\n",
       " 2100,\n",
       " 2120,\n",
       " 2130,\n",
       " 2150,\n",
       " 2160,\n",
       " 2170,\n",
       " 2190,\n",
       " 2200,\n",
       " 2220,\n",
       " 2240,\n",
       " 2250,\n",
       " 2280,\n",
       " 2300,\n",
       " 2310,\n",
       " 2320,\n",
       " 2340,\n",
       " 2350,\n",
       " 2360,\n",
       " 2370,\n",
       " 2380,\n",
       " 2400,\n",
       " 2430,\n",
       " 2440,\n",
       " 2450,\n",
       " 2460,\n",
       " 2480,\n",
       " 2490,\n",
       " 2500,\n",
       " 2520,\n",
       " 2550,\n",
       " 2560,\n",
       " 2580,\n",
       " 2590,\n",
       " 2600,\n",
       " 2610,\n",
       " 2640,\n",
       " 2650,\n",
       " 2660,\n",
       " 2670,\n",
       " 2680,\n",
       " 2700,\n",
       " 2720,\n",
       " 2730,\n",
       " 2750,\n",
       " 2760,\n",
       " 2790,\n",
       " 2800,\n",
       " 2820,\n",
       " 2840,\n",
       " 2850,\n",
       " 2870,\n",
       " 2880,\n",
       " 2900,\n",
       " 2910,\n",
       " 2920,\n",
       " 2940,\n",
       " 2950,\n",
       " 2960,\n",
       " 2970,\n",
       " 3000,\n",
       " 3010,\n",
       " 3040,\n",
       " 3050,\n",
       " 3060,\n",
       " 3080,\n",
       " 3100,\n",
       " 3120,\n",
       " 3150,\n",
       " 3160,\n",
       " 3180,\n",
       " 3200,\n",
       " 3220,\n",
       " 3240,\n",
       " 3250,\n",
       " 3280,\n",
       " 3290,\n",
       " 3300,\n",
       " 3320,\n",
       " 3330,\n",
       " 3350,\n",
       " 3360,\n",
       " 3400,\n",
       " 3420,\n",
       " 3430,\n",
       " 3440,\n",
       " 3450,\n",
       " 3480,\n",
       " 3500,\n",
       " 3510,\n",
       " 3520,\n",
       " 3540,\n",
       " 3550,\n",
       " 3560,\n",
       " 3570,\n",
       " 3600,\n",
       " 3640,\n",
       " 3650,\n",
       " 3660,\n",
       " 3680,\n",
       " 3690,\n",
       " 3700,\n",
       " 3710,\n",
       " 3720,\n",
       " 3750,\n",
       " 3760,\n",
       " 3780,\n",
       " 3800,\n",
       " 3840,\n",
       " 3850,\n",
       " 3870,\n",
       " 3880,\n",
       " 3900,\n",
       " 3920,\n",
       " 3950,\n",
       " 3960,\n",
       " 3990,\n",
       " 4000,\n",
       " 4020,\n",
       " 4050,\n",
       " 4060,\n",
       " 4080,\n",
       " 4100,\n",
       " 4130,\n",
       " 4140,\n",
       " 4150,\n",
       " 4160,\n",
       " 4200,\n",
       " 4230,\n",
       " 4240,\n",
       " 4250,\n",
       " 4260,\n",
       " 4270,\n",
       " 4300,\n",
       " 4320,\n",
       " 4340,\n",
       " 4350,\n",
       " 4380,\n",
       " 4400,\n",
       " 4410,\n",
       " 4440,\n",
       " 4450,\n",
       " 4480,\n",
       " 4500,\n",
       " 4550,\n",
       " 4560,\n",
       " 4590,\n",
       " 4600,\n",
       " 4620,\n",
       " 4640,\n",
       " 4650,\n",
       " 4680,\n",
       " 4690,\n",
       " 4700,\n",
       " 4720,\n",
       " 4740,\n",
       " 4750,\n",
       " 4760,\n",
       " 4770,\n",
       " 4800,\n",
       " 4830,\n",
       " 4850,\n",
       " 4860,\n",
       " 4880,\n",
       " 4900,\n",
       " 4920,\n",
       " 4950,\n",
       " 4960,\n",
       " 4970,\n",
       " 4980,\n",
       " 5000}"
      ]
     },
     "execution_count": 213,
     "metadata": {},
     "output_type": "execute_result"
    }
   ],
   "source": [
    "sett"
   ]
  },
  {
   "cell_type": "code",
   "execution_count": null,
   "metadata": {},
   "outputs": [],
   "source": [
    "for r in sett:\n",
    "    for k in [4,6,8,10,12]:\n",
    "        for i in range(10):\n",
    "            "
   ]
  }
 ],
 "metadata": {
  "kernelspec": {
   "display_name": "Python 3",
   "language": "python",
   "name": "python3"
  },
  "language_info": {
   "codemirror_mode": {
    "name": "ipython",
    "version": 3
   },
   "file_extension": ".py",
   "mimetype": "text/x-python",
   "name": "python",
   "nbconvert_exporter": "python",
   "pygments_lexer": "ipython3",
   "version": "3.10.12"
  }
 },
 "nbformat": 4,
 "nbformat_minor": 2
}
