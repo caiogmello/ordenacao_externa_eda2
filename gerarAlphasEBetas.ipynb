{
 "cells": [
  {
   "cell_type": "code",
   "execution_count": 14,
   "metadata": {},
   "outputs": [],
   "source": [
    "import matplotlib.pyplot as plt\n",
    "from FileManager import fileManager\n",
    "from Registro import Registro\n",
    "from Ordenador import Ordenador\n",
    "import sys\n",
    "from tqdm import tqdm"
   ]
  },
  {
   "cell_type": "code",
   "execution_count": 15,
   "metadata": {},
   "outputs": [],
   "source": [
    "import json"
   ]
  },
  {
   "cell_type": "code",
   "execution_count": 16,
   "metadata": {},
   "outputs": [
    {
     "name": "stdout",
     "output_type": "stream",
     "text": [
      "The autoreload extension is already loaded. To reload it, use:\n",
      "  %reload_ext autoreload\n"
     ]
    }
   ],
   "source": [
    "%load_ext autoreload\n",
    "%autoreload 2"
   ]
  },
  {
   "cell_type": "code",
   "execution_count": 17,
   "metadata": {},
   "outputs": [],
   "source": [
    "possibles_r  = [i*j for i in range(1,11) for j in range(10,1001,10) if i*j <= 5000]\n",
    "sett = set(possibles_r)\n",
    "possibles_r = sorted(list(sett))"
   ]
  },
  {
   "cell_type": "code",
   "execution_count": 18,
   "metadata": {},
   "outputs": [],
   "source": [
    "m = [3,15,30,45,60]\n",
    "k = [4,6,8,10,12]"
   ]
  },
  {
   "cell_type": "code",
   "execution_count": 19,
   "metadata": {},
   "outputs": [],
   "source": [
    "def getAlphaDict(r: list, k:list, n:int, m:int, ordenador: Ordenador, mode:str, numero_de_iteracoes:int=10):\n",
    "    dct = {}\n",
    "    with tqdm(total=len(r)) as pbar:\n",
    "        for i in r:\n",
    "            pbar.set_postfix_str(f\"R: {i}\")\n",
    "            pbar.update(1)  \n",
    "            for j in k:\n",
    "                alpha_total = 0\n",
    "                if i not in dct:  \n",
    "                    dct[i] = {}\n",
    "                if j not in dct[i]:\n",
    "                    dct[i][j] = {}\n",
    "                for l in range(numero_de_iteracoes):\n",
    "                    ordenador.ordenar(mode, m, j, i, n, None, True, False)\n",
    "                    alpha_total += ordenador.alpha\n",
    "\n",
    "                dct[i][j] = round(alpha_total/numero_de_iteracoes,4)\n",
    "\n",
    "    return dct    "
   ]
  },
  {
   "cell_type": "code",
   "execution_count": 20,
   "metadata": {},
   "outputs": [],
   "source": [
    "def getBetaDict(r: int, k:int, n:int, m:list, ordenador: Ordenador, mode:str, numero_de_iteracoes:int=10):\n",
    "    dct = {}\n",
    "    for j in m:\n",
    "        beta0_total = 0\n",
    "        if j not in dct:\n",
    "            dct[j] = {}\n",
    "        for l in range(numero_de_iteracoes):\n",
    "            ordenador.ordenar(mode, j, k,r, n, None, True, False)\n",
    "            beta0_total += ordenador.betas[0]\n",
    "\n",
    "        dct[j] = round(beta0_total/numero_de_iteracoes,4)\n",
    "\n",
    "    return dct    "
   ]
  },
  {
   "cell_type": "markdown",
   "metadata": {},
   "source": [
    "## Alphas para cada método"
   ]
  },
  {
   "cell_type": "markdown",
   "metadata": {},
   "source": [
    "Multicaminhos: nao ta funcionando ainda"
   ]
  },
  {
   "cell_type": "code",
   "execution_count": 69,
   "metadata": {},
   "outputs": [
    {
     "name": "stderr",
     "output_type": "stream",
     "text": [
      "  0%|          | 1/351 [00:00<00:03, 108.14it/s, R: 10]"
     ]
    },
    {
     "name": "stderr",
     "output_type": "stream",
     "text": [
      "\n"
     ]
    },
    {
     "ename": "IndexError",
     "evalue": "pop from an empty deque",
     "output_type": "error",
     "traceback": [
      "\u001b[0;31m---------------------------------------------------------------------------\u001b[0m",
      "\u001b[0;31mIndexError\u001b[0m                                Traceback (most recent call last)",
      "Cell \u001b[0;32mIn[69], line 1\u001b[0m\n\u001b[0;32m----> 1\u001b[0m dctt_alpha_B \u001b[38;5;241m=\u001b[39m \u001b[43mgetAlphaDict\u001b[49m\u001b[43m(\u001b[49m\u001b[43mpossibles_r\u001b[49m\u001b[43m,\u001b[49m\u001b[43mk\u001b[49m\u001b[43m,\u001b[49m\u001b[38;5;241;43m100000\u001b[39;49m\u001b[43m,\u001b[49m\u001b[43m \u001b[49m\u001b[38;5;241;43m3\u001b[39;49m\u001b[43m,\u001b[49m\u001b[43m \u001b[49m\u001b[43mOrdenador\u001b[49m\u001b[43m(\u001b[49m\u001b[43m)\u001b[49m\u001b[43m,\u001b[49m\u001b[43m \u001b[49m\u001b[38;5;124;43m\"\u001b[39;49m\u001b[38;5;124;43mB\u001b[39;49m\u001b[38;5;124;43m\"\u001b[39;49m\u001b[43m)\u001b[49m\n",
      "Cell \u001b[0;32mIn[66], line 14\u001b[0m, in \u001b[0;36mgetAlphaDict\u001b[0;34m(r, k, n, m, ordenador, mode, numero_de_iteracoes)\u001b[0m\n\u001b[1;32m     12\u001b[0m     dct[i][j] \u001b[38;5;241m=\u001b[39m {}\n\u001b[1;32m     13\u001b[0m \u001b[38;5;28;01mfor\u001b[39;00m l \u001b[38;5;129;01min\u001b[39;00m \u001b[38;5;28mrange\u001b[39m(numero_de_iteracoes):\n\u001b[0;32m---> 14\u001b[0m     \u001b[43mordenador\u001b[49m\u001b[38;5;241;43m.\u001b[39;49m\u001b[43mordenar\u001b[49m\u001b[43m(\u001b[49m\u001b[43mmode\u001b[49m\u001b[43m,\u001b[49m\u001b[43m \u001b[49m\u001b[43mm\u001b[49m\u001b[43m,\u001b[49m\u001b[43m \u001b[49m\u001b[43mj\u001b[49m\u001b[43m,\u001b[49m\u001b[43m \u001b[49m\u001b[43mi\u001b[49m\u001b[43m,\u001b[49m\u001b[43m \u001b[49m\u001b[43mn\u001b[49m\u001b[43m,\u001b[49m\u001b[43m \u001b[49m\u001b[38;5;28;43;01mNone\u001b[39;49;00m\u001b[43m,\u001b[49m\u001b[43m \u001b[49m\u001b[38;5;28;43;01mTrue\u001b[39;49;00m\u001b[43m,\u001b[49m\u001b[43m \u001b[49m\u001b[38;5;28;43;01mFalse\u001b[39;49;00m\u001b[43m)\u001b[49m\n\u001b[1;32m     15\u001b[0m     alpha_total \u001b[38;5;241m+\u001b[39m\u001b[38;5;241m=\u001b[39m ordenador\u001b[38;5;241m.\u001b[39malpha\n\u001b[1;32m     17\u001b[0m dct[i][j] \u001b[38;5;241m=\u001b[39m \u001b[38;5;28mround\u001b[39m(alpha_total\u001b[38;5;241m/\u001b[39mnumero_de_iteracoes,\u001b[38;5;241m4\u001b[39m)\n",
      "File \u001b[0;32m~/Projetos-Linux/ordenacao_externa_eda2/Ordenador.py:31\u001b[0m, in \u001b[0;36mOrdenador.ordenar\u001b[0;34m(self, method, m, k, r, n, registros, teste, to_print)\u001b[0m\n\u001b[1;32m     29\u001b[0m \u001b[38;5;28;01mmatch\u001b[39;00m method:\n\u001b[1;32m     30\u001b[0m     \u001b[38;5;28;01mcase\u001b[39;00m \u001b[38;5;124m\"\u001b[39m\u001b[38;5;124mB\u001b[39m\u001b[38;5;124m\"\u001b[39m:\n\u001b[0;32m---> 31\u001b[0m         \u001b[38;5;28;43mself\u001b[39;49m\u001b[38;5;241;43m.\u001b[39;49m\u001b[43mbalanceadaMultiCaminhos\u001b[49m\u001b[43m(\u001b[49m\u001b[43mm\u001b[49m\u001b[43m,\u001b[49m\u001b[43m \u001b[49m\u001b[43mto_print\u001b[49m\u001b[43m,\u001b[49m\u001b[43m \u001b[49m\u001b[43m)\u001b[49m\n\u001b[1;32m     32\u001b[0m     \u001b[38;5;28;01mcase\u001b[39;00m \u001b[38;5;124m\"\u001b[39m\u001b[38;5;124mP\u001b[39m\u001b[38;5;124m\"\u001b[39m:\n\u001b[1;32m     33\u001b[0m         \u001b[38;5;28mself\u001b[39m\u001b[38;5;241m.\u001b[39mpolifasica(m, to_print)\n",
      "File \u001b[0;32m~/Projetos-Linux/ordenacao_externa_eda2/Ordenador.py:155\u001b[0m, in \u001b[0;36mOrdenador.balanceadaMultiCaminhos\u001b[0;34m(self, m, to_print)\u001b[0m\n\u001b[1;32m    153\u001b[0m         \u001b[38;5;28;01mif\u001b[39;00m (\u001b[38;5;28mself\u001b[39m\u001b[38;5;241m.\u001b[39misOrdered()):\n\u001b[1;32m    154\u001b[0m             \u001b[38;5;28;01mbreak\u001b[39;00m\n\u001b[0;32m--> 155\u001b[0m         writes \u001b[38;5;241m+\u001b[39m\u001b[38;5;241m=\u001b[39m \u001b[38;5;28;43mself\u001b[39;49m\u001b[38;5;241;43m.\u001b[39;49m\u001b[43mintercalar\u001b[49m\u001b[43m(\u001b[49m\u001b[43mfilled\u001b[49m\u001b[43m,\u001b[49m\u001b[43m \u001b[49m\u001b[43mx\u001b[49m\u001b[43m)\u001b[49m\n\u001b[1;32m    156\u001b[0m         [x\u001b[38;5;241m.\u001b[39mactive() \u001b[38;5;28;01mfor\u001b[39;00m x \u001b[38;5;129;01min\u001b[39;00m filled \u001b[38;5;28;01mif\u001b[39;00m x\u001b[38;5;241m.\u001b[39misBlocked()]\n\u001b[1;32m    158\u001b[0m count\u001b[38;5;241m+\u001b[39m\u001b[38;5;241m=\u001b[39m\u001b[38;5;241m1\u001b[39m\n",
      "File \u001b[0;32m~/Projetos-Linux/ordenacao_externa_eda2/Ordenador.py:177\u001b[0m, in \u001b[0;36mOrdenador.intercalar\u001b[0;34m(self, filled, target)\u001b[0m\n\u001b[1;32m    175\u001b[0m     \u001b[38;5;28;01mif\u001b[39;00m(x\u001b[38;5;241m.\u001b[39misEmpty()):  \u001b[38;5;66;03m#se a pagina está vazia eu simplesmente skipo ela\u001b[39;00m\n\u001b[1;32m    176\u001b[0m         \u001b[38;5;28;01mpass\u001b[39;00m\n\u001b[0;32m--> 177\u001b[0m     \u001b[38;5;28;01melse\u001b[39;00m: heap\u001b[38;5;241m.\u001b[39mpush(\u001b[43mx\u001b[49m\u001b[38;5;241;43m.\u001b[39;49m\u001b[43mpop\u001b[49m\u001b[43m(\u001b[49m\u001b[43m)\u001b[49m)\n\u001b[1;32m    179\u001b[0m new_sequence \u001b[38;5;241m=\u001b[39m deque()  \u001b[38;5;66;03m#new_sequence representa a nova sequência que será gerada\u001b[39;00m\n\u001b[1;32m    181\u001b[0m \u001b[38;5;66;03m#intercalação propriamente dita utilizando heap mim\u001b[39;00m\n",
      "File \u001b[0;32m~/Projetos-Linux/ordenacao_externa_eda2/Pagina.py:19\u001b[0m, in \u001b[0;36mPagina.pop\u001b[0;34m(self)\u001b[0m\n\u001b[1;32m     18\u001b[0m \u001b[38;5;28;01mdef\u001b[39;00m \u001b[38;5;21mpop\u001b[39m(\u001b[38;5;28mself\u001b[39m):\n\u001b[0;32m---> 19\u001b[0m     item \u001b[38;5;241m=\u001b[39m \u001b[38;5;28;43mself\u001b[39;49m\u001b[38;5;241;43m.\u001b[39;49m\u001b[43mregistros\u001b[49m\u001b[43m[\u001b[49m\u001b[38;5;241;43m0\u001b[39;49m\u001b[43m]\u001b[49m\u001b[38;5;241;43m.\u001b[39;49m\u001b[43mpopleft\u001b[49m\u001b[43m(\u001b[49m\u001b[43m)\u001b[49m\n\u001b[1;32m     20\u001b[0m     \u001b[38;5;28;01mif\u001b[39;00m (\u001b[38;5;28mlen\u001b[39m(\u001b[38;5;28mself\u001b[39m\u001b[38;5;241m.\u001b[39mregistros[\u001b[38;5;241m0\u001b[39m]) \u001b[38;5;241m<\u001b[39m \u001b[38;5;241m1\u001b[39m): \u001b[38;5;28mself\u001b[39m\u001b[38;5;241m.\u001b[39mblocked \u001b[38;5;241m=\u001b[39m \u001b[38;5;28;01mTrue\u001b[39;00m\n\u001b[1;32m     21\u001b[0m     \u001b[38;5;28;01mreturn\u001b[39;00m item\n",
      "\u001b[0;31mIndexError\u001b[0m: pop from an empty deque"
     ]
    }
   ],
   "source": [
    "dctt_alpha_B = getAlphaDict(possibles_r,k,100000, 3, Ordenador(), \"B\")"
   ]
  },
  {
   "cell_type": "code",
   "execution_count": 20,
   "metadata": {},
   "outputs": [],
   "source": [
    "ordenador2 = Ordenador()"
   ]
  },
  {
   "cell_type": "markdown",
   "metadata": {},
   "source": [
    "Polifasica"
   ]
  },
  {
   "cell_type": "code",
   "execution_count": 22,
   "metadata": {},
   "outputs": [
    {
     "name": "stderr",
     "output_type": "stream",
     "text": [
      "  0%|          | 1/351 [00:00<00:10, 32.26it/s, R: 20]"
     ]
    },
    {
     "name": "stderr",
     "output_type": "stream",
     "text": [
      "100%|██████████| 351/351 [24:10<00:00,  4.13s/it, R: 5000]\n"
     ]
    }
   ],
   "source": [
    "dctt_alpha_P = getAlphaDict(possibles_r,k,50000, 3, ordenador2, \"P\",1)"
   ]
  },
  {
   "cell_type": "code",
   "execution_count": 24,
   "metadata": {},
   "outputs": [],
   "source": [
    "json.dump(dctt_alpha_P, open(\"dctt_alpha_P.json\", \"w\"))"
   ]
  },
  {
   "cell_type": "markdown",
   "metadata": {},
   "source": [
    "Cascata"
   ]
  },
  {
   "cell_type": "code",
   "execution_count": 27,
   "metadata": {},
   "outputs": [
    {
     "name": "stderr",
     "output_type": "stream",
     "text": [
      "  0%|          | 0/351 [00:00<?, ?it/s, R: 10]"
     ]
    },
    {
     "name": "stderr",
     "output_type": "stream",
     "text": [
      "100%|██████████| 351/351 [22:28<00:00,  3.84s/it, R: 5000]\n"
     ]
    }
   ],
   "source": [
    "dctt_alpha_C = getAlphaDict(possibles_r,k,100000, 3, Ordenador(), \"C\",1)"
   ]
  },
  {
   "cell_type": "code",
   "execution_count": 28,
   "metadata": {},
   "outputs": [],
   "source": [
    "json.dump(dctt_alpha_C, open(\"dctt_alpha_C.json\", \"w\"))"
   ]
  },
  {
   "cell_type": "markdown",
   "metadata": {},
   "source": [
    "## Beta(m, 0) para cada método"
   ]
  },
  {
   "cell_type": "markdown",
   "metadata": {},
   "source": [
    "multiCaminhos: n ta funcionando"
   ]
  },
  {
   "cell_type": "code",
   "execution_count": null,
   "metadata": {},
   "outputs": [],
   "source": [
    "# dctt_betas0_B = getBetaDict(20,8,100,m, Ordenador(), \"B\")"
   ]
  },
  {
   "cell_type": "markdown",
   "metadata": {},
   "source": [
    "Polifasica"
   ]
  },
  {
   "cell_type": "code",
   "execution_count": 9,
   "metadata": {},
   "outputs": [],
   "source": [
    "dctt_betas0_P = getBetaDict(20,8,100,m, Ordenador(), \"P\",1)"
   ]
  },
  {
   "cell_type": "code",
   "execution_count": 10,
   "metadata": {},
   "outputs": [],
   "source": [
    "json.dump(dctt_betas0_P, open(\"dctt_betas0_P.json\", \"w\"))"
   ]
  },
  {
   "cell_type": "markdown",
   "metadata": {},
   "source": [
    "Cascata"
   ]
  },
  {
   "cell_type": "code",
   "execution_count": 115,
   "metadata": {},
   "outputs": [],
   "source": [
    "tipo, specs, values = fileManager.read(\"hard_example2\")"
   ]
  },
  {
   "cell_type": "code",
   "execution_count": 22,
   "metadata": {},
   "outputs": [
    {
     "name": "stdout",
     "output_type": "stream",
     "text": [
      "[68, 5, 86, 48, 9, 60, 77, 70, 82, 37, 93, 24, 23, 18, 74, 44, 35, 10, 57, 32, 83, 63, 65, 26, 20, 31, 52, 47, 84, 56, 14, 53, 45, 90]\n",
      "Fase 0 0.57\n",
      "1: {68}{23}{26}\n",
      "2: {5 86}{18 74}{20 31 52}\n",
      "3: {48}{44}{47 84}\n",
      "4: {9 60 77}{35}{56}\n",
      "5: {70 82}{10 57}{14 53}\n",
      "6: {37 93}{32 83}{45 90}\n",
      "7: {24}{63 65}\n",
      "Fase 1 1.42\n",
      "1: {26}\n",
      "2: {20 31 52}\n",
      "3: {47 84}\n",
      "4: {56}\n",
      "5: {14 53}\n",
      "6: {45 90}\n",
      "8: {5 9 24 37 48 60 68 70 77 82 86 93}{10 18 23 32 35 44 57 63 65 74 83}\n",
      "Fase 2 5.67\n",
      "7: {5 9 14 20 24 26 31 37 45 47 48 52 53 56 60 68 70 77 82 84 86 90 93}\n",
      "8: {10 18 23 32 35 44 57 63 65 74 83}\n",
      "Fase 3 11.33\n",
      "1: {5 9 10 14 18 20 23 24 26 31 32 35 37 44 45 47 48 52 53 56 57 60 63 65 68 70 74 77 82 83 84 86 90 93}\n",
      "Final 2.35\n"
     ]
    }
   ],
   "source": [
    "Ordenador().ordenar('P', 3, 8, 20, 100, None, True,True)"
   ]
  },
  {
   "cell_type": "code",
   "execution_count": 16,
   "metadata": {},
   "outputs": [],
   "source": [
    "dctt_betas0_C = getBetaDict(20,8,100,m, Ordenador(), \"C\",1)"
   ]
  },
  {
   "cell_type": "code",
   "execution_count": 12,
   "metadata": {},
   "outputs": [],
   "source": [
    "json.dump(dctt_betas0_C, open(\"dctt_betas0_C.json\", \"w\"))"
   ]
  }
 ],
 "metadata": {
  "kernelspec": {
   "display_name": "Python 3",
   "language": "python",
   "name": "python3"
  },
  "language_info": {
   "codemirror_mode": {
    "name": "ipython",
    "version": 3
   },
   "file_extension": ".py",
   "mimetype": "text/x-python",
   "name": "python",
   "nbconvert_exporter": "python",
   "pygments_lexer": "ipython3",
   "version": "3.10.12"
  }
 },
 "nbformat": 4,
 "nbformat_minor": 2
}
