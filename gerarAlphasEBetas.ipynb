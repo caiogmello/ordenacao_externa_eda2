{
 "cells": [
  {
   "cell_type": "code",
   "execution_count": 2,
   "metadata": {},
   "outputs": [],
   "source": [
    "import matplotlib.pyplot as plt\n",
    "from FileManager import fileManager\n",
    "from Registro import Registro\n",
    "from Ordenador import Ordenador\n",
    "import sys\n",
    "from tqdm import tqdm"
   ]
  },
  {
   "cell_type": "code",
   "execution_count": 3,
   "metadata": {},
   "outputs": [],
   "source": [
    "import json"
   ]
  },
  {
   "cell_type": "code",
   "execution_count": 4,
   "metadata": {},
   "outputs": [],
   "source": [
    "%load_ext autoreload\n",
    "%autoreload 2"
   ]
  },
  {
   "cell_type": "code",
   "execution_count": 5,
   "metadata": {},
   "outputs": [],
   "source": [
    "possibles_r  = [i*j for i in range(1,11) for j in range(10,1001,10) if i*j <= 5000]\n",
    "sett = set(possibles_r)\n",
    "possibles_r = sorted(list(sett))"
   ]
  },
  {
   "cell_type": "code",
   "execution_count": 6,
   "metadata": {},
   "outputs": [],
   "source": [
    "m = [3,15,30,45,60]\n",
    "k = [4,6,8,10,12]"
   ]
  },
  {
   "cell_type": "code",
   "execution_count": 7,
   "metadata": {},
   "outputs": [],
   "source": [
    "def getAlphaDict(r: list, k:list, n:int, m:int, ordenador: Ordenador, mode:str, numero_de_iteracoes:int=10):\n",
    "    dct = {}\n",
    "    with tqdm(total=len(r)) as pbar:\n",
    "        for i in r:\n",
    "            pbar.set_postfix_str(f\"R: {i}\")\n",
    "            pbar.update(1)  \n",
    "            for j in k:\n",
    "                alpha_total = 0\n",
    "                if i not in dct:  \n",
    "                    dct[i] = {}\n",
    "                if j not in dct[i]:\n",
    "                    dct[i][j] = {}\n",
    "                for l in range(numero_de_iteracoes):\n",
    "                    ordenador.ordenar(mode, m, j, i, n, None, True, False)\n",
    "                    alpha_total += ordenador.alpha\n",
    "\n",
    "                dct[i][j] = round(alpha_total/numero_de_iteracoes,4)\n",
    "\n",
    "    return dct    "
   ]
  },
  {
   "cell_type": "code",
   "execution_count": 8,
   "metadata": {},
   "outputs": [],
   "source": [
    "def getBetaDict(r: int, k:int, n:int, m:list, ordenador: Ordenador, mode:str, numero_de_iteracoes:int=10):\n",
    "    dct = {}\n",
    "    for j in m:\n",
    "        beta0_total = 0\n",
    "        if j not in dct:\n",
    "            dct[j] = {}\n",
    "        for l in range(numero_de_iteracoes):\n",
    "            ordenador.ordenar(mode, j, k,r, n, None, True, False)\n",
    "            beta0_total += ordenador.betas[0]\n",
    "\n",
    "        dct[j] = round(beta0_total/numero_de_iteracoes,4)\n",
    "\n",
    "    return dct    "
   ]
  },
  {
   "cell_type": "markdown",
   "metadata": {},
   "source": [
    "## Alphas para cada método"
   ]
  },
  {
   "cell_type": "markdown",
   "metadata": {},
   "source": [
    "Multicaminhos: nao ta funcionando ainda"
   ]
  },
  {
   "cell_type": "code",
   "execution_count": 19,
   "metadata": {},
   "outputs": [],
   "source": [
    "# dctt_alpha_B = getAlphaDict(possibles_r,k,100000, 3, Ordenador(), \"B\")"
   ]
  },
  {
   "cell_type": "code",
   "execution_count": 20,
   "metadata": {},
   "outputs": [],
   "source": [
    "ordenador2 = Ordenador()"
   ]
  },
  {
   "cell_type": "markdown",
   "metadata": {},
   "source": [
    "Polifasica"
   ]
  },
  {
   "cell_type": "code",
   "execution_count": 22,
   "metadata": {},
   "outputs": [
    {
     "name": "stderr",
     "output_type": "stream",
     "text": [
      "  0%|          | 1/351 [00:00<00:10, 32.26it/s, R: 20]"
     ]
    },
    {
     "name": "stderr",
     "output_type": "stream",
     "text": [
      "100%|██████████| 351/351 [24:10<00:00,  4.13s/it, R: 5000]\n"
     ]
    }
   ],
   "source": [
    "dctt_alpha_P = getAlphaDict(possibles_r,k,50000, 3, ordenador2, \"P\",1)"
   ]
  },
  {
   "cell_type": "code",
   "execution_count": 24,
   "metadata": {},
   "outputs": [],
   "source": [
    "json.dump(dctt_alpha_P, open(\"dctt_alpha_P.json\", \"w\"))"
   ]
  },
  {
   "cell_type": "markdown",
   "metadata": {},
   "source": [
    "Cascata"
   ]
  },
  {
   "cell_type": "code",
   "execution_count": 27,
   "metadata": {},
   "outputs": [
    {
     "name": "stderr",
     "output_type": "stream",
     "text": [
      "  0%|          | 0/351 [00:00<?, ?it/s, R: 10]"
     ]
    },
    {
     "name": "stderr",
     "output_type": "stream",
     "text": [
      "100%|██████████| 351/351 [22:28<00:00,  3.84s/it, R: 5000]\n"
     ]
    }
   ],
   "source": [
    "dctt_alpha_C = getAlphaDict(possibles_r,k,100000, 3, Ordenador(), \"C\",1)"
   ]
  },
  {
   "cell_type": "code",
   "execution_count": 28,
   "metadata": {},
   "outputs": [],
   "source": [
    "json.dump(dctt_alpha_C, open(\"dctt_alpha_C.json\", \"w\"))"
   ]
  },
  {
   "cell_type": "markdown",
   "metadata": {},
   "source": [
    "## Beta(m, 0) para cada método"
   ]
  },
  {
   "cell_type": "markdown",
   "metadata": {},
   "source": [
    "multiCaminhos: n ta funcionando"
   ]
  },
  {
   "cell_type": "code",
   "execution_count": null,
   "metadata": {},
   "outputs": [],
   "source": [
    "# dctt_betas0_B = getBetaDict(20,8,100,m, Ordenador(), \"B\")"
   ]
  },
  {
   "cell_type": "markdown",
   "metadata": {},
   "source": [
    "Polifasica"
   ]
  },
  {
   "cell_type": "code",
   "execution_count": 9,
   "metadata": {},
   "outputs": [],
   "source": [
    "dctt_betas0_P = getBetaDict(20,8,100,m, Ordenador(), \"P\",1)"
   ]
  },
  {
   "cell_type": "code",
   "execution_count": 10,
   "metadata": {},
   "outputs": [],
   "source": [
    "json.dump(dctt_betas0_P, open(\"dctt_betas0_P.json\", \"w\"))"
   ]
  },
  {
   "cell_type": "markdown",
   "metadata": {},
   "source": [
    "Cascata"
   ]
  },
  {
   "cell_type": "code",
   "execution_count": 60,
   "metadata": {},
   "outputs": [
    {
     "name": "stdout",
     "output_type": "stream",
     "text": [
      "Fase 0 1.00\n",
      "1: {39 78 83}{59}{62}\n",
      "2: {17 38 66}{1 47}{10 56}\n",
      "3: {63 86}{55 60 99}{34 77}\n",
      "4: {72 91}{49}{64 80}\n",
      "5: {33}{36 93 97}{3 98}\n",
      "6: {2 4 12 32}{30 68}{92}\n",
      "7: {7}{28 84}\n",
      "Fase 1 6.67\n",
      "7: {3 10 34 56 62 64 77 80 92 98}\n",
      "8: {2 4 7 12 17 32 33 38 39 63 66 72 78 83 86 91}{1 28 30 36 47 49 55 59 60 68 84 93 97 99}\n",
      "Fase 2 10.00\n",
      "1: {2 3 4 7 10 12 17 32 33 34 38 39 56 62 63 64 66 72 77 78 80 83 86 91 92 98}\n",
      "2: {1 28 30 36 47 49 55 59 60 68 84 93 97 99}\n",
      "Fase 3 20.00\n",
      "3: {1 2 3 4 7 10 12 17 28 30 32 33 34 36 38 39 47 49 55 56 59 60 62 63 64 66 68 72 77 78 80 83 84 86 91 92 93 97 98 99}\n",
      "Final 2.00\n"
     ]
    }
   ],
   "source": [
    "Ordenador().ordenar('C', 3, 8, 20, 100, None, True,True)"
   ]
  },
  {
   "cell_type": "code",
   "execution_count": 16,
   "metadata": {},
   "outputs": [],
   "source": [
    "dctt_betas0_C = getBetaDict(20,8,100,m, Ordenador(), \"C\",1)"
   ]
  },
  {
   "cell_type": "code",
   "execution_count": 12,
   "metadata": {},
   "outputs": [],
   "source": [
    "json.dump(dctt_betas0_C, open(\"dctt_betas0_C.json\", \"w\"))"
   ]
  }
 ],
 "metadata": {
  "kernelspec": {
   "display_name": "Python 3",
   "language": "python",
   "name": "python3"
  },
  "language_info": {
   "codemirror_mode": {
    "name": "ipython",
    "version": 3
   },
   "file_extension": ".py",
   "mimetype": "text/x-python",
   "name": "python",
   "nbconvert_exporter": "python",
   "pygments_lexer": "ipython3",
   "version": "3.10.12"
  }
 },
 "nbformat": 4,
 "nbformat_minor": 2
}
