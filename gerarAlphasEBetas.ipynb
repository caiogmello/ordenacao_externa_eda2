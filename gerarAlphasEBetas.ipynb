{
 "cells": [
  {
   "cell_type": "code",
   "execution_count": 131,
   "metadata": {},
   "outputs": [],
   "source": [
    "import matplotlib.pyplot as plt\n",
    "from FileManager import fileManager\n",
    "from Registro import Registro\n",
    "from Ordenador import Ordenador\n",
    "import sys\n",
    "from tqdm import tqdm"
   ]
  },
  {
   "cell_type": "code",
   "execution_count": 132,
   "metadata": {},
   "outputs": [],
   "source": [
    "import json"
   ]
  },
  {
   "cell_type": "code",
   "execution_count": 133,
   "metadata": {},
   "outputs": [
    {
     "name": "stdout",
     "output_type": "stream",
     "text": [
      "The autoreload extension is already loaded. To reload it, use:\n",
      "  %reload_ext autoreload\n"
     ]
    }
   ],
   "source": [
    "%load_ext autoreload\n",
    "%autoreload 2"
   ]
  },
  {
   "cell_type": "code",
   "execution_count": 134,
   "metadata": {},
   "outputs": [],
   "source": [
    "possibles_r  = [i*j for i in range(1,11) for j in range(10,1001,10) if i*j <= 5000]\n",
    "sett = set(possibles_r)\n",
    "possibles_r = sorted(list(sett))"
   ]
  },
  {
   "cell_type": "code",
   "execution_count": 135,
   "metadata": {},
   "outputs": [],
   "source": [
    "m = [3,15,30,45,60]\n",
    "k = [4,6,8,10,12]"
   ]
  },
  {
   "cell_type": "code",
   "execution_count": 136,
   "metadata": {},
   "outputs": [],
   "source": [
    "def getAlphaDict(r: list, k:list, n:int, m:int, ordenador: Ordenador, mode:str, numero_de_iteracoes:int=10):\n",
    "    dct = {}\n",
    "    with tqdm(total=len(r)) as pbar:\n",
    "        for i in r:\n",
    "            pbar.set_postfix_str(f\"R: {i}\")\n",
    "            pbar.update(1)  \n",
    "            for j in k:\n",
    "                alpha_total = 0\n",
    "                if i not in dct:  \n",
    "                    dct[i] = {}\n",
    "                if j not in dct[i]:\n",
    "                    dct[i][j] = {}\n",
    "                for l in range(numero_de_iteracoes):\n",
    "                    ordenador.ordenar(mode, m, j, i, n, None, True, False)\n",
    "                    alpha_total += ordenador.alpha\n",
    "\n",
    "                dct[i][j] = round(alpha_total/numero_de_iteracoes,4)\n",
    "\n",
    "    return dct    "
   ]
  },
  {
   "cell_type": "code",
   "execution_count": 137,
   "metadata": {},
   "outputs": [],
   "source": [
    "def getBetaDict(r: int, k:int, n:int, m:list, ordenador: Ordenador, mode:str, numero_de_iteracoes:int=10):\n",
    "    import numpy as np\n",
    "    dct = {}\n",
    "    for j in m:\n",
    "        beta0_total = 0\n",
    "        if j not in dct:\n",
    "            dct[j] = {}\n",
    "        for l in range(numero_de_iteracoes):\n",
    "            ordenador.ordenar(mode, j, k,r, n, np.random(n), False, False)\n",
    "            beta0_total += ordenador.betas[0]\n",
    "\n",
    "        dct[j] = round(beta0_total/numero_de_iteracoes,4)\n",
    "\n",
    "    return dct    "
   ]
  },
  {
   "cell_type": "markdown",
   "metadata": {},
   "source": [
    "## Alphas para cada método"
   ]
  },
  {
   "cell_type": "markdown",
   "metadata": {},
   "source": [
    "Multicaminhos: nao ta funcionando ainda"
   ]
  },
  {
   "cell_type": "code",
   "execution_count": 138,
   "metadata": {},
   "outputs": [
    {
     "name": "stderr",
     "output_type": "stream",
     "text": [
      "  0%|          | 0/351 [00:00<?, ?it/s, R: 10]"
     ]
    },
    {
     "name": "stderr",
     "output_type": "stream",
     "text": [
      " 44%|████▍     | 155/351 [03:21<04:14,  1.30s/it, R: 1720]\n"
     ]
    },
    {
     "ename": "KeyboardInterrupt",
     "evalue": "",
     "output_type": "error",
     "traceback": [
      "\u001b[0;31m---------------------------------------------------------------------------\u001b[0m",
      "\u001b[0;31mKeyboardInterrupt\u001b[0m                         Traceback (most recent call last)",
      "Cell \u001b[0;32mIn[138], line 1\u001b[0m\n\u001b[0;32m----> 1\u001b[0m dctt_alpha_B \u001b[38;5;241m=\u001b[39m \u001b[43mgetAlphaDict\u001b[49m\u001b[43m(\u001b[49m\u001b[43mpossibles_r\u001b[49m\u001b[43m,\u001b[49m\u001b[43mk\u001b[49m\u001b[43m,\u001b[49m\u001b[38;5;241;43m50000\u001b[39;49m\u001b[43m,\u001b[49m\u001b[43m \u001b[49m\u001b[38;5;241;43m3\u001b[39;49m\u001b[43m,\u001b[49m\u001b[43m \u001b[49m\u001b[43mOrdenador\u001b[49m\u001b[43m(\u001b[49m\u001b[43m)\u001b[49m\u001b[43m,\u001b[49m\u001b[43m \u001b[49m\u001b[38;5;124;43m\"\u001b[39;49m\u001b[38;5;124;43mB\u001b[39;49m\u001b[38;5;124;43m\"\u001b[39;49m\u001b[43m)\u001b[49m\n",
      "Cell \u001b[0;32mIn[136], line 14\u001b[0m, in \u001b[0;36mgetAlphaDict\u001b[0;34m(r, k, n, m, ordenador, mode, numero_de_iteracoes)\u001b[0m\n\u001b[1;32m     12\u001b[0m     dct[i][j] \u001b[38;5;241m=\u001b[39m {}\n\u001b[1;32m     13\u001b[0m \u001b[38;5;28;01mfor\u001b[39;00m l \u001b[38;5;129;01min\u001b[39;00m \u001b[38;5;28mrange\u001b[39m(numero_de_iteracoes):\n\u001b[0;32m---> 14\u001b[0m     \u001b[43mordenador\u001b[49m\u001b[38;5;241;43m.\u001b[39;49m\u001b[43mordenar\u001b[49m\u001b[43m(\u001b[49m\u001b[43mmode\u001b[49m\u001b[43m,\u001b[49m\u001b[43m \u001b[49m\u001b[43mm\u001b[49m\u001b[43m,\u001b[49m\u001b[43m \u001b[49m\u001b[43mj\u001b[49m\u001b[43m,\u001b[49m\u001b[43m \u001b[49m\u001b[43mi\u001b[49m\u001b[43m,\u001b[49m\u001b[43m \u001b[49m\u001b[43mn\u001b[49m\u001b[43m,\u001b[49m\u001b[43m \u001b[49m\u001b[38;5;28;43;01mNone\u001b[39;49;00m\u001b[43m,\u001b[49m\u001b[43m \u001b[49m\u001b[38;5;28;43;01mTrue\u001b[39;49;00m\u001b[43m,\u001b[49m\u001b[43m \u001b[49m\u001b[38;5;28;43;01mFalse\u001b[39;49;00m\u001b[43m)\u001b[49m\n\u001b[1;32m     15\u001b[0m     alpha_total \u001b[38;5;241m+\u001b[39m\u001b[38;5;241m=\u001b[39m ordenador\u001b[38;5;241m.\u001b[39malpha\n\u001b[1;32m     17\u001b[0m dct[i][j] \u001b[38;5;241m=\u001b[39m \u001b[38;5;28mround\u001b[39m(alpha_total\u001b[38;5;241m/\u001b[39mnumero_de_iteracoes,\u001b[38;5;241m4\u001b[39m)\n",
      "File \u001b[0;32m~/Projetos-Linux/ordenacao_externa_eda2/Ordenador.py:31\u001b[0m, in \u001b[0;36mOrdenador.ordenar\u001b[0;34m(self, method, m, k, r, n, registros, teste, to_print)\u001b[0m\n\u001b[1;32m     29\u001b[0m \u001b[38;5;28;01mmatch\u001b[39;00m method:\n\u001b[1;32m     30\u001b[0m     \u001b[38;5;28;01mcase\u001b[39;00m \u001b[38;5;124m\"\u001b[39m\u001b[38;5;124mB\u001b[39m\u001b[38;5;124m\"\u001b[39m:\n\u001b[0;32m---> 31\u001b[0m         \u001b[38;5;28;43mself\u001b[39;49m\u001b[38;5;241;43m.\u001b[39;49m\u001b[43mbalanceadaMultiCaminhos\u001b[49m\u001b[43m(\u001b[49m\u001b[43mm\u001b[49m\u001b[43m,\u001b[49m\u001b[43m \u001b[49m\u001b[43mto_print\u001b[49m\u001b[43m,\u001b[49m\u001b[43m \u001b[49m\u001b[43m)\u001b[49m\n\u001b[1;32m     32\u001b[0m     \u001b[38;5;28;01mcase\u001b[39;00m \u001b[38;5;124m\"\u001b[39m\u001b[38;5;124mP\u001b[39m\u001b[38;5;124m\"\u001b[39m:\n\u001b[1;32m     33\u001b[0m         \u001b[38;5;28mself\u001b[39m\u001b[38;5;241m.\u001b[39mpolifasica(m, to_print)\n",
      "File \u001b[0;32m~/Projetos-Linux/ordenacao_externa_eda2/Ordenador.py:164\u001b[0m, in \u001b[0;36mOrdenador.balanceadaMultiCaminhos\u001b[0;34m(self, m, to_print)\u001b[0m\n\u001b[1;32m    162\u001b[0m                 \u001b[38;5;28;01mbreak\u001b[39;00m\n\u001b[1;32m    163\u001b[0m             writes \u001b[38;5;241m+\u001b[39m\u001b[38;5;241m=\u001b[39m \u001b[38;5;28mself\u001b[39m\u001b[38;5;241m.\u001b[39mintercalar(filled, x)\n\u001b[0;32m--> 164\u001b[0m             [x\u001b[38;5;241m.\u001b[39mactive() \u001b[38;5;28;01mfor\u001b[39;00m x \u001b[38;5;129;01min\u001b[39;00m filled \u001b[38;5;28;01mif\u001b[39;00m x\u001b[38;5;241m.\u001b[39misBlocked()]\n\u001b[1;32m    166\u001b[0m     count\u001b[38;5;241m+\u001b[39m\u001b[38;5;241m=\u001b[39m\u001b[38;5;241m1\u001b[39m\n\u001b[1;32m    168\u001b[0m filled \u001b[38;5;241m=\u001b[39m [x \u001b[38;5;28;01mfor\u001b[39;00m x \u001b[38;5;129;01min\u001b[39;00m \u001b[38;5;28mself\u001b[39m\u001b[38;5;241m.\u001b[39mpaginas \u001b[38;5;28;01mif\u001b[39;00m (\u001b[38;5;129;01mnot\u001b[39;00m x\u001b[38;5;241m.\u001b[39misEmpty())]\n",
      "File \u001b[0;32m~/Projetos-Linux/ordenacao_externa_eda2/Ordenador.py:164\u001b[0m, in \u001b[0;36m<listcomp>\u001b[0;34m(.0)\u001b[0m\n\u001b[1;32m    162\u001b[0m                 \u001b[38;5;28;01mbreak\u001b[39;00m\n\u001b[1;32m    163\u001b[0m             writes \u001b[38;5;241m+\u001b[39m\u001b[38;5;241m=\u001b[39m \u001b[38;5;28mself\u001b[39m\u001b[38;5;241m.\u001b[39mintercalar(filled, x)\n\u001b[0;32m--> 164\u001b[0m             [\u001b[43mx\u001b[49m\u001b[38;5;241;43m.\u001b[39;49m\u001b[43mactive\u001b[49m\u001b[43m(\u001b[49m\u001b[43m)\u001b[49m \u001b[38;5;28;01mfor\u001b[39;00m x \u001b[38;5;129;01min\u001b[39;00m filled \u001b[38;5;28;01mif\u001b[39;00m x\u001b[38;5;241m.\u001b[39misBlocked()]\n\u001b[1;32m    166\u001b[0m     count\u001b[38;5;241m+\u001b[39m\u001b[38;5;241m=\u001b[39m\u001b[38;5;241m1\u001b[39m\n\u001b[1;32m    168\u001b[0m filled \u001b[38;5;241m=\u001b[39m [x \u001b[38;5;28;01mfor\u001b[39;00m x \u001b[38;5;129;01min\u001b[39;00m \u001b[38;5;28mself\u001b[39m\u001b[38;5;241m.\u001b[39mpaginas \u001b[38;5;28;01mif\u001b[39;00m (\u001b[38;5;129;01mnot\u001b[39;00m x\u001b[38;5;241m.\u001b[39misEmpty())]\n",
      "\u001b[0;31mKeyboardInterrupt\u001b[0m: "
     ]
    }
   ],
   "source": [
    "dctt_alpha_B = getAlphaDict(possibles_r,k,50000, 3, Ordenador(), \"B\")"
   ]
  },
  {
   "cell_type": "code",
   "execution_count": null,
   "metadata": {},
   "outputs": [],
   "source": [
    "json.dump(dctt_alpha_B, open(\"dctt_alpha_B.json\", \"w\"))"
   ]
  },
  {
   "cell_type": "code",
   "execution_count": 20,
   "metadata": {},
   "outputs": [],
   "source": [
    "ordenador2 = Ordenador()"
   ]
  },
  {
   "cell_type": "markdown",
   "metadata": {},
   "source": [
    "Polifasica"
   ]
  },
  {
   "cell_type": "code",
   "execution_count": 120,
   "metadata": {},
   "outputs": [
    {
     "name": "stderr",
     "output_type": "stream",
     "text": [
      "  1%|          | 2/351 [00:00<00:05, 61.57it/s, R: 30]"
     ]
    },
    {
     "name": "stderr",
     "output_type": "stream",
     "text": [
      "100%|██████████| 351/351 [51:41<00:00,  8.84s/it, R: 5000]\n"
     ]
    }
   ],
   "source": [
    "dctt_alpha_P = getAlphaDict(possibles_r,k,50000, 3, Ordenador(), \"P\",1)"
   ]
  },
  {
   "cell_type": "code",
   "execution_count": 121,
   "metadata": {},
   "outputs": [],
   "source": [
    "json.dump(dctt_alpha_P, open(\"dctt_alpha_P.json\", \"w\"))"
   ]
  },
  {
   "cell_type": "markdown",
   "metadata": {},
   "source": [
    "Cascata"
   ]
  },
  {
   "cell_type": "code",
   "execution_count": 122,
   "metadata": {},
   "outputs": [
    {
     "name": "stderr",
     "output_type": "stream",
     "text": [
      "100%|██████████| 351/351 [45:51<00:00,  7.84s/it, R: 5000]\n"
     ]
    }
   ],
   "source": [
    "dctt_alpha_C = getAlphaDict(possibles_r,k,100000, 3, Ordenador(), \"C\", 1)"
   ]
  },
  {
   "cell_type": "code",
   "execution_count": 123,
   "metadata": {},
   "outputs": [],
   "source": [
    "json.dump(dctt_alpha_C, open(\"dctt_alpha_C.json\", \"w\"))"
   ]
  },
  {
   "cell_type": "markdown",
   "metadata": {},
   "source": [
    "## Beta(m, 0) para cada método"
   ]
  },
  {
   "cell_type": "markdown",
   "metadata": {},
   "source": [
    "multiCaminhos: n ta funcionando"
   ]
  },
  {
   "cell_type": "code",
   "execution_count": null,
   "metadata": {},
   "outputs": [],
   "source": [
    "# dctt_betas0_B = getBetaDict(20,8,100,m, Ordenador(), \"B\")"
   ]
  },
  {
   "cell_type": "markdown",
   "metadata": {},
   "source": [
    "Polifasica"
   ]
  },
  {
   "cell_type": "code",
   "execution_count": 124,
   "metadata": {},
   "outputs": [],
   "source": [
    "dctt_betas0_P = getBetaDict(20,8,100,m, Ordenador(), \"P\",1)"
   ]
  },
  {
   "cell_type": "code",
   "execution_count": 125,
   "metadata": {},
   "outputs": [],
   "source": [
    "json.dump(dctt_betas0_P, open(\"dctt_betas0_P.json\", \"w\"))"
   ]
  },
  {
   "cell_type": "markdown",
   "metadata": {},
   "source": [
    "Cascata"
   ]
  },
  {
   "cell_type": "code",
   "execution_count": 126,
   "metadata": {},
   "outputs": [],
   "source": [
    "tipo, specs, values = fileManager.read(\"hard_example2\")"
   ]
  },
  {
   "cell_type": "code",
   "execution_count": 127,
   "metadata": {},
   "outputs": [
    {
     "name": "stdout",
     "output_type": "stream",
     "text": [
      "Fase 0 0.78\n",
      "1: {0 7 77 98}{52 59}{22 50 66 78}\n",
      "2: {25}{10 20 94 97}{68 72 76}\n",
      "3: {9 34}{70}{42 91}\n",
      "4: {11 49}{16 81 88}{74}\n",
      "5: {41 58 93}{24 90}{48}\n",
      "6: {19 67}{2}{36 73}\n",
      "7: {28 54}{1 3 6 12 51}\n",
      "Fase 1 1.96\n",
      "1: {22 50 66 78}\n",
      "2: {68 72 76}\n",
      "3: {42 91}\n",
      "4: {74}\n",
      "5: {48}\n",
      "6: {36 73}\n",
      "8: {0 7 9 11 19 25 28 34 41 49 54 58 67 77 93 98}{1 2 3 6 10 12 16 20 24 51 52 59 70 81 88 90 94 97}\n",
      "Fase 2 7.83\n",
      "7: {0 7 9 11 19 22 25 28 34 36 41 42 48 49 50 54 58 66 67 68 72 73 74 76 77 78 91 93 98}\n",
      "8: {1 2 3 6 10 12 16 20 24 51 52 59 70 81 88 90 94 97}\n",
      "Fase 3 15.67\n",
      "1: {0 1 2 3 6 7 9 10 11 12 16 19 20 22 24 25 28 34 36 41 42 48 49 50 51 52 54 58 59 66 67 68 70 72 73 74 76 77 78 81 88 90 91 93 94 97 98}\n",
      "Final 2.34\n"
     ]
    }
   ],
   "source": [
    "Ordenador().ordenar('P', 3, 8, 20, 100, None, True,True)"
   ]
  },
  {
   "cell_type": "code",
   "execution_count": 128,
   "metadata": {},
   "outputs": [],
   "source": [
    "dctt_betas0_C = getBetaDict(20,8,100,m, Ordenador(), \"C\",1)"
   ]
  },
  {
   "cell_type": "code",
   "execution_count": 129,
   "metadata": {},
   "outputs": [],
   "source": [
    "json.dump(dctt_betas0_C, open(\"dctt_betas0_C.json\", \"w\"))"
   ]
  }
 ],
 "metadata": {
  "kernelspec": {
   "display_name": "Python 3",
   "language": "python",
   "name": "python3"
  },
  "language_info": {
   "codemirror_mode": {
    "name": "ipython",
    "version": 3
   },
   "file_extension": ".py",
   "mimetype": "text/x-python",
   "name": "python",
   "nbconvert_exporter": "python",
   "pygments_lexer": "ipython3",
   "version": "3.10.12"
  }
 },
 "nbformat": 4,
 "nbformat_minor": 2
}
