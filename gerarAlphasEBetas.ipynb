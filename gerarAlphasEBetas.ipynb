{
 "cells": [
  {
   "cell_type": "code",
   "execution_count": 1,
   "metadata": {},
   "outputs": [],
   "source": [
    "import matplotlib.pyplot as plt\n",
    "from FileManager import fileManager\n",
    "from Registro import Registro\n",
    "from Ordenador import Ordenador\n",
    "import sys\n",
    "from tqdm import tqdm\n",
    "import numpy as np"
   ]
  },
  {
   "cell_type": "code",
   "execution_count": 2,
   "metadata": {},
   "outputs": [],
   "source": [
    "import json"
   ]
  },
  {
   "cell_type": "code",
   "execution_count": 3,
   "metadata": {},
   "outputs": [],
   "source": [
    "%load_ext autoreload\n",
    "%autoreload 2"
   ]
  },
  {
   "cell_type": "code",
   "execution_count": 4,
   "metadata": {},
   "outputs": [],
   "source": [
    "possibles_r  = [i*j for i in range(1,11) for j in range(10,1001,10) if i*j <= 5000]\n",
    "sett = set(possibles_r)\n",
    "possibles_r = sorted(list(sett))"
   ]
  },
  {
   "cell_type": "code",
   "execution_count": 5,
   "metadata": {},
   "outputs": [],
   "source": [
    "m = [3,15,30,45,60]\n",
    "k = [4,6,8,10,12]"
   ]
  },
  {
   "cell_type": "code",
   "execution_count": 6,
   "metadata": {},
   "outputs": [],
   "source": [
    "def getAlphaDict(r: list, k:list, n:int, m:int, ordenador: Ordenador, mode:str, numero_de_iteracoes:int=10):\n",
    "    dct = {}\n",
    "    with tqdm(total=len(r)) as pbar:\n",
    "        for i in r:\n",
    "            pbar.set_postfix_str(f\"R: {i}\")\n",
    "            pbar.update(1)  \n",
    "            for j in k:\n",
    "                alpha_total = 0\n",
    "                if i not in dct:  \n",
    "                    dct[i] = {}\n",
    "                if j not in dct[i]:\n",
    "                    dct[i][j] = {}\n",
    "                for l in range(numero_de_iteracoes):\n",
    "                    ordenador.ordenar(mode, m, j, i, n, np.random.choice(np.arange(1,n+2), size=n+1, replace=False), False, True)\n",
    "                    alpha_total += ordenador.alpha\n",
    "\n",
    "                dct[i][j] = round(alpha_total/numero_de_iteracoes,4)\n",
    "\n",
    "    return dct    "
   ]
  },
  {
   "cell_type": "code",
   "execution_count": 63,
   "metadata": {},
   "outputs": [],
   "source": [
    "def getBetaDict(r: int, k:int, n:int, m:list, ordenador: Ordenador, mode:str, numero_de_iteracoes:int=10):\n",
    "    import numpy as np\n",
    "    dct = {}\n",
    "    for j in m:\n",
    "        beta0_total = 0\n",
    "        if j not in dct:\n",
    "            dct[j] = {}\n",
    "        for l in range(numero_de_iteracoes):\n",
    "            ordenador.ordenar(mode, j, k,r, n, np.random.permutation(n),False, False)\n",
    "            print(ordenador.betas)\n",
    "            beta0_total += ordenador.betas[0]\n",
    "\n",
    "        dct[j] = round(beta0_total/numero_de_iteracoes,4)\n",
    "\n",
    "    return dct    "
   ]
  },
  {
   "cell_type": "markdown",
   "metadata": {},
   "source": [
    "## Alphas para cada método"
   ]
  },
  {
   "cell_type": "markdown",
   "metadata": {},
   "source": [
    "Multicaminhos: nao ta funcionando ainda"
   ]
  },
  {
   "cell_type": "code",
   "execution_count": null,
   "metadata": {},
   "outputs": [],
   "source": [
    "dctt_alpha_B = getAlphaDict(possibles_r,k,50000, 3, Ordenador(), \"B\")"
   ]
  },
  {
   "cell_type": "code",
   "execution_count": null,
   "metadata": {},
   "outputs": [],
   "source": [
    "json.dump(dctt_alpha_B, open(\"dctt_alpha_B.json\", \"w\"))"
   ]
  },
  {
   "cell_type": "markdown",
   "metadata": {},
   "source": [
    "Polifasica"
   ]
  },
  {
   "cell_type": "code",
   "execution_count": 48,
   "metadata": {},
   "outputs": [
    {
     "name": "stdout",
     "output_type": "stream",
     "text": [
      "oi\n",
      "Fase 0 1.97\n",
      "1: {2825 4228 4819}{538 884 2815 3331 3493 4803 4808}{724 1060 1186 2680 3610}\n",
      "2: {716 2298 3326 3942 4503}{869 1979 3156 3212}\n",
      "3: {353 3062 4413 4584}{1222 1431 1903 2244 4419 4712}\n",
      "4: {222 295 595 1391 1889 2613 4002 4171 4273}{196 853 1731 2655 3593 3904 4912}\n",
      "5: {2017 2854 4142 1266 1796 2627}\n",
      "Fase 1 6.56\n",
      "1: {724 1060 1186 2680 3610}\n",
      "5: {196 538 853 869 884 1222 1431 1731 1903 1979 2244 2655 2815 3156 3212 3331 3493 3593 3904 4419 4712 4803 4808 4912}\n",
      "6: {222 295 353 595 716 1391 1889 2017 2298 2613 2825 2854 3062 3326 3942 4002 4142 1266 1796 2627 4171 4228 4273 4413 4503 4584 4819}\n",
      "Fase 2 19.67\n",
      "2: {196 222 295 353 538 595 716 724 853 869 884 1060 1186 1222 1391 1431 1731 1889 1903 1979 2017 2244 2298 2613 2655 2680 2815 2825 2854 3062 3156 3212 3326 3331 3493 3593 3610 3904 3942 4002 4142 1266 1796 2627 4171 4228 4273 4413 4419 4503 4584 4712 4803 4808 4819 4912}\n",
      "Final 1.81\n"
     ]
    }
   ],
   "source": [
    "Ordenador().ordenar(\"C\", 3, 6,10,50000,np.random.permutation(5000), False, True)"
   ]
  },
  {
   "cell_type": "code",
   "execution_count": 38,
   "metadata": {},
   "outputs": [
    {
     "name": "stderr",
     "output_type": "stream",
     "text": [
      "  0%|          | 1/351 [00:00<00:00, 860.72it/s, R: 10]"
     ]
    },
    {
     "name": "stdout",
     "output_type": "stream",
     "text": [
      "Fase 0 2.06\n",
      "1: {2599 2750 3308 3797 4573 4860}{215 750 2960 4960}{132 377 1924 2535 2726 4908}{677 1470 2091 2859 3029 3411 1082 1086 2057}\n",
      "2: {127 3158 3287 4126 4614 4684}{592 658 807 1925 3860 4145 4250}{240 2119 2208 2215 3219}{677 1470 2091 2859 3029 3411 1082 1086 2057}\n",
      "3: {811 1640 1649 1913 3569}{366 1641 2563 2929 4565 4709}{1680 1804 2377 2579 2907 2999 3914 4915}\n",
      "Fase 1 4.53\n",
      "1: {677 1470 2091 2859 3029 3411 1082 1086 2057}\n",
      "2: {677 1470 2091 2859 3029 3411 1082 1086 2057}\n",
      "4: {127 811 1640 1649 1913 2599 2750 3158 3287 3308 3569 3797 4126 4573 4614 4684 4860}{215 366 592 658 750 807 1641 1925 2563 2929 2960 3860 4145 4250 4565 4709 4960}{132 240 377 1680 1804 1924 2119 2208 2215 2377 2535 2579 2726 2907 2999 3219 3914 4908 4915}\n"
     ]
    },
    {
     "name": "stderr",
     "output_type": "stream",
     "text": [
      "\n"
     ]
    },
    {
     "ename": "IndexError",
     "evalue": "pop from an empty deque",
     "output_type": "error",
     "traceback": [
      "\u001b[0;31m---------------------------------------------------------------------------\u001b[0m",
      "\u001b[0;31mIndexError\u001b[0m                                Traceback (most recent call last)",
      "Cell \u001b[0;32mIn[38], line 1\u001b[0m\n\u001b[0;32m----> 1\u001b[0m dctt_alpha_P \u001b[38;5;241m=\u001b[39m \u001b[43mgetAlphaDict\u001b[49m\u001b[43m(\u001b[49m\u001b[43mpossibles_r\u001b[49m\u001b[43m,\u001b[49m\u001b[43mk\u001b[49m\u001b[43m,\u001b[49m\u001b[38;5;241;43m5000\u001b[39;49m\u001b[43m,\u001b[49m\u001b[43m \u001b[49m\u001b[38;5;241;43m3\u001b[39;49m\u001b[43m,\u001b[49m\u001b[43m \u001b[49m\u001b[43mOrdenador\u001b[49m\u001b[43m(\u001b[49m\u001b[43m)\u001b[49m\u001b[43m,\u001b[49m\u001b[43m \u001b[49m\u001b[38;5;124;43m\"\u001b[39;49m\u001b[38;5;124;43mP\u001b[39;49m\u001b[38;5;124;43m\"\u001b[39;49m\u001b[43m)\u001b[49m\n",
      "Cell \u001b[0;32mIn[6], line 14\u001b[0m, in \u001b[0;36mgetAlphaDict\u001b[0;34m(r, k, n, m, ordenador, mode, numero_de_iteracoes)\u001b[0m\n\u001b[1;32m     12\u001b[0m     dct[i][j] \u001b[38;5;241m=\u001b[39m {}\n\u001b[1;32m     13\u001b[0m \u001b[38;5;28;01mfor\u001b[39;00m l \u001b[38;5;129;01min\u001b[39;00m \u001b[38;5;28mrange\u001b[39m(numero_de_iteracoes):\n\u001b[0;32m---> 14\u001b[0m     \u001b[43mordenador\u001b[49m\u001b[38;5;241;43m.\u001b[39;49m\u001b[43mordenar\u001b[49m\u001b[43m(\u001b[49m\u001b[43mmode\u001b[49m\u001b[43m,\u001b[49m\u001b[43m \u001b[49m\u001b[43mm\u001b[49m\u001b[43m,\u001b[49m\u001b[43m \u001b[49m\u001b[43mj\u001b[49m\u001b[43m,\u001b[49m\u001b[43m \u001b[49m\u001b[43mi\u001b[49m\u001b[43m,\u001b[49m\u001b[43m \u001b[49m\u001b[43mn\u001b[49m\u001b[43m,\u001b[49m\u001b[43m \u001b[49m\u001b[43mnp\u001b[49m\u001b[38;5;241;43m.\u001b[39;49m\u001b[43mrandom\u001b[49m\u001b[38;5;241;43m.\u001b[39;49m\u001b[43mchoice\u001b[49m\u001b[43m(\u001b[49m\u001b[43mnp\u001b[49m\u001b[38;5;241;43m.\u001b[39;49m\u001b[43marange\u001b[49m\u001b[43m(\u001b[49m\u001b[38;5;241;43m1\u001b[39;49m\u001b[43m,\u001b[49m\u001b[43mn\u001b[49m\u001b[38;5;241;43m+\u001b[39;49m\u001b[38;5;241;43m2\u001b[39;49m\u001b[43m)\u001b[49m\u001b[43m,\u001b[49m\u001b[43m \u001b[49m\u001b[43msize\u001b[49m\u001b[38;5;241;43m=\u001b[39;49m\u001b[43mn\u001b[49m\u001b[38;5;241;43m+\u001b[39;49m\u001b[38;5;241;43m1\u001b[39;49m\u001b[43m,\u001b[49m\u001b[43m \u001b[49m\u001b[43mreplace\u001b[49m\u001b[38;5;241;43m=\u001b[39;49m\u001b[38;5;28;43;01mFalse\u001b[39;49;00m\u001b[43m)\u001b[49m\u001b[43m,\u001b[49m\u001b[43m \u001b[49m\u001b[38;5;28;43;01mFalse\u001b[39;49;00m\u001b[43m,\u001b[49m\u001b[43m \u001b[49m\u001b[38;5;28;43;01mTrue\u001b[39;49;00m\u001b[43m)\u001b[49m\n\u001b[1;32m     15\u001b[0m     alpha_total \u001b[38;5;241m+\u001b[39m\u001b[38;5;241m=\u001b[39m ordenador\u001b[38;5;241m.\u001b[39malpha\n\u001b[1;32m     17\u001b[0m dct[i][j] \u001b[38;5;241m=\u001b[39m \u001b[38;5;28mround\u001b[39m(alpha_total\u001b[38;5;241m/\u001b[39mnumero_de_iteracoes,\u001b[38;5;241m4\u001b[39m)\n",
      "File \u001b[0;32m~/workspace/ufba/eda/ordenacao_externa_eda2/Ordenador.py:33\u001b[0m, in \u001b[0;36mOrdenador.ordenar\u001b[0;34m(self, method, m, k, r, n, registros, teste, to_print)\u001b[0m\n\u001b[1;32m     31\u001b[0m     \u001b[38;5;28mself\u001b[39m\u001b[38;5;241m.\u001b[39mbalanceadaMultiCaminhos(m, to_print, )\n\u001b[1;32m     32\u001b[0m \u001b[38;5;28;01mcase\u001b[39;00m \u001b[38;5;124m\"\u001b[39m\u001b[38;5;124mP\u001b[39m\u001b[38;5;124m\"\u001b[39m:\n\u001b[0;32m---> 33\u001b[0m     \u001b[38;5;28;43mself\u001b[39;49m\u001b[38;5;241;43m.\u001b[39;49m\u001b[43mpolifasica\u001b[49m\u001b[43m(\u001b[49m\u001b[43mm\u001b[49m\u001b[43m,\u001b[49m\u001b[43m \u001b[49m\u001b[43mto_print\u001b[49m\u001b[43m)\u001b[49m\n\u001b[1;32m     34\u001b[0m \u001b[38;5;28;01mcase\u001b[39;00m \u001b[38;5;124m\"\u001b[39m\u001b[38;5;124mC\u001b[39m\u001b[38;5;124m\"\u001b[39m:\n\u001b[1;32m     35\u001b[0m     \u001b[38;5;28mself\u001b[39m\u001b[38;5;241m.\u001b[39mcascata(m, to_print)\n",
      "File \u001b[0;32m~/workspace/ufba/eda/ordenacao_externa_eda2/Ordenador.py:219\u001b[0m, in \u001b[0;36mOrdenador.polifasica\u001b[0;34m(self, m, to_print)\u001b[0m\n\u001b[1;32m    215\u001b[0m smallest_subsequence_page \u001b[38;5;241m=\u001b[39m \u001b[38;5;28mself\u001b[39m\u001b[38;5;241m.\u001b[39mget_smallest_page(filled)\n\u001b[1;32m    217\u001b[0m \u001b[38;5;28mself\u001b[39m\u001b[38;5;241m.\u001b[39mimprimir_resultados(filled, count, m, to_print)\n\u001b[0;32m--> 219\u001b[0m writes \u001b[38;5;241m+\u001b[39m\u001b[38;5;241m=\u001b[39m \u001b[38;5;28;43mself\u001b[39;49m\u001b[38;5;241;43m.\u001b[39;49m\u001b[43mintercalarPolifasica\u001b[49m\u001b[43m(\u001b[49m\u001b[43msmallest_subsequence_page\u001b[49m\u001b[43m,\u001b[49m\u001b[43m \u001b[49m\u001b[43mfilled\u001b[49m\u001b[43m,\u001b[49m\u001b[43m \u001b[49m\u001b[43mnotFilled\u001b[49m\u001b[43m[\u001b[49m\u001b[38;5;241;43m0\u001b[39;49m\u001b[43m]\u001b[49m\u001b[43m)\u001b[49m\n\u001b[1;32m    220\u001b[0m [x\u001b[38;5;241m.\u001b[39mactive() \u001b[38;5;28;01mfor\u001b[39;00m x \u001b[38;5;129;01min\u001b[39;00m filled \u001b[38;5;28;01mif\u001b[39;00m x\u001b[38;5;241m.\u001b[39misBlocked()]\n\u001b[1;32m    222\u001b[0m count\u001b[38;5;241m+\u001b[39m\u001b[38;5;241m=\u001b[39m\u001b[38;5;241m1\u001b[39m\n",
      "File \u001b[0;32m~/workspace/ufba/eda/ordenacao_externa_eda2/Ordenador.py:238\u001b[0m, in \u001b[0;36mOrdenador.intercalarPolifasica\u001b[0;34m(self, smallest_page, filled, target)\u001b[0m\n\u001b[1;32m    236\u001b[0m \u001b[38;5;28;01mwhile\u001b[39;00m(\u001b[38;5;129;01mnot\u001b[39;00m smallest_page\u001b[38;5;241m.\u001b[39misEmpty()):\n\u001b[1;32m    237\u001b[0m     \u001b[38;5;28;01mfor\u001b[39;00m x \u001b[38;5;129;01min\u001b[39;00m filled:\n\u001b[0;32m--> 238\u001b[0m         heap\u001b[38;5;241m.\u001b[39mpush(\u001b[43mx\u001b[49m\u001b[38;5;241;43m.\u001b[39;49m\u001b[43mpop\u001b[49m\u001b[43m(\u001b[49m\u001b[43m)\u001b[49m)\n\u001b[1;32m    240\u001b[0m     new_sequence \u001b[38;5;241m=\u001b[39m deque()  \u001b[38;5;66;03m#new_sequence representa a nova sequência que será gerada\u001b[39;00m\n\u001b[1;32m    242\u001b[0m     \u001b[38;5;66;03m#intercalação propriamente dita utilizando heap mim\u001b[39;00m\n",
      "File \u001b[0;32m~/workspace/ufba/eda/ordenacao_externa_eda2/Pagina.py:29\u001b[0m, in \u001b[0;36mPagina.pop\u001b[0;34m(self)\u001b[0m\n\u001b[1;32m     28\u001b[0m \u001b[38;5;28;01mdef\u001b[39;00m \u001b[38;5;21mpop\u001b[39m(\u001b[38;5;28mself\u001b[39m):\n\u001b[0;32m---> 29\u001b[0m     item \u001b[38;5;241m=\u001b[39m \u001b[38;5;28;43mself\u001b[39;49m\u001b[38;5;241;43m.\u001b[39;49m\u001b[43mregistros\u001b[49m\u001b[43m[\u001b[49m\u001b[38;5;241;43m0\u001b[39;49m\u001b[43m]\u001b[49m\u001b[38;5;241;43m.\u001b[39;49m\u001b[43mpopleft\u001b[49m\u001b[43m(\u001b[49m\u001b[43m)\u001b[49m\n\u001b[1;32m     30\u001b[0m     \u001b[38;5;28;01mif\u001b[39;00m (\u001b[38;5;28mlen\u001b[39m(\u001b[38;5;28mself\u001b[39m\u001b[38;5;241m.\u001b[39mregistros[\u001b[38;5;241m0\u001b[39m]) \u001b[38;5;241m<\u001b[39m \u001b[38;5;241m1\u001b[39m): \u001b[38;5;28mself\u001b[39m\u001b[38;5;241m.\u001b[39mblocked \u001b[38;5;241m=\u001b[39m \u001b[38;5;28;01mTrue\u001b[39;00m\n\u001b[1;32m     31\u001b[0m     \u001b[38;5;28;01mreturn\u001b[39;00m item\n",
      "\u001b[0;31mIndexError\u001b[0m: pop from an empty deque"
     ]
    }
   ],
   "source": [
    "dctt_alpha_P = getAlphaDict(possibles_r,k,5000, 3, Ordenador(), \"P\")"
   ]
  },
  {
   "cell_type": "code",
   "execution_count": null,
   "metadata": {},
   "outputs": [
    {
     "ename": "NameError",
     "evalue": "name 'dctt_alpha_P' is not defined",
     "output_type": "error",
     "traceback": [
      "\u001b[0;31m---------------------------------------------------------------------------\u001b[0m",
      "\u001b[0;31mNameError\u001b[0m                                 Traceback (most recent call last)",
      "Cell \u001b[0;32mIn[76], line 1\u001b[0m\n\u001b[0;32m----> 1\u001b[0m json\u001b[38;5;241m.\u001b[39mdump(\u001b[43mdctt_alpha_P\u001b[49m, \u001b[38;5;28mopen\u001b[39m(\u001b[38;5;124m\"\u001b[39m\u001b[38;5;124mdctt_alpha_P.json\u001b[39m\u001b[38;5;124m\"\u001b[39m, \u001b[38;5;124m\"\u001b[39m\u001b[38;5;124mw\u001b[39m\u001b[38;5;124m\"\u001b[39m))\n",
      "\u001b[0;31mNameError\u001b[0m: name 'dctt_alpha_P' is not defined"
     ]
    }
   ],
   "source": [
    "json.dump(dctt_alpha_P, open(\"dctt_alpha_P.json\", \"w\"))"
   ]
  },
  {
   "cell_type": "markdown",
   "metadata": {},
   "source": [
    "Cascata"
   ]
  },
  {
   "cell_type": "code",
   "execution_count": null,
   "metadata": {},
   "outputs": [
    {
     "name": "stderr",
     "output_type": "stream",
     "text": [
      "100%|██████████| 351/351 [29:35<00:00,  5.06s/it, R: 5000]\n"
     ]
    }
   ],
   "source": [
    "dctt_alpha_C = getAlphaDict(possibles_r,k,5000, 3, Ordenador(), \"C\", 1)"
   ]
  },
  {
   "cell_type": "code",
   "execution_count": null,
   "metadata": {},
   "outputs": [],
   "source": [
    "json.dump(dctt_alpha_C, open(\"dctt_alpha_C.json\", \"w\"))"
   ]
  },
  {
   "cell_type": "markdown",
   "metadata": {},
   "source": [
    "## Beta(m, 0) para cada método"
   ]
  },
  {
   "cell_type": "markdown",
   "metadata": {},
   "source": [
    "multiCaminhos: n ta funcionando"
   ]
  },
  {
   "cell_type": "code",
   "execution_count": 64,
   "metadata": {},
   "outputs": [],
   "source": [
    "dctt_betas0_B = getBetaDict(60000,8,50000,m, Ordenador(), \"B\", 1)"
   ]
  },
  {
   "cell_type": "code",
   "execution_count": 66,
   "metadata": {},
   "outputs": [],
   "source": [
    "json.dump(dctt_betas0_B, open(\"dctt_betas0_B.json\", \"w\"))"
   ]
  },
  {
   "cell_type": "markdown",
   "metadata": {},
   "source": [
    "Polifasica"
   ]
  },
  {
   "cell_type": "code",
   "execution_count": 33,
   "metadata": {},
   "outputs": [],
   "source": [
    "dctt_betas0_P = getBetaDict(60000,8,50000,m, Ordenador(), \"P\",10)"
   ]
  },
  {
   "cell_type": "code",
   "execution_count": 34,
   "metadata": {},
   "outputs": [],
   "source": [
    "json.dump(dctt_betas0_P, open(\"dctt_betas0_P.json\", \"w\"))"
   ]
  },
  {
   "cell_type": "markdown",
   "metadata": {},
   "source": [
    "Cascata"
   ]
  },
  {
   "cell_type": "code",
   "execution_count": 35,
   "metadata": {},
   "outputs": [],
   "source": [
    "dctt_betas0_C = getBetaDict(60000,8,50000,m, Ordenador(), \"C\",10)"
   ]
  },
  {
   "cell_type": "code",
   "execution_count": 36,
   "metadata": {},
   "outputs": [],
   "source": [
    "json.dump(dctt_betas0_C, open(\"dctt_betas0_C.json\", \"w\"))"
   ]
  },
  {
   "cell_type": "code",
   "execution_count": null,
   "metadata": {},
   "outputs": [],
   "source": [
    "tipo, specs, values = fileManager.read(\"hard_example2\")"
   ]
  },
  {
   "cell_type": "code",
   "execution_count": 22,
   "metadata": {},
   "outputs": [
    {
     "name": "stdout",
     "output_type": "stream",
     "text": [
      "Fase 0 0.60\n",
      "1: {71 96}{24}{35 90}\n",
      "2: {87}{8 59}{55}\n",
      "3: {72}{34 76}{30 47 73}\n",
      "4: {28 40}{48 60}{10 45}\n",
      "5: {36}{11 98}{13 75}\n",
      "6: {3 61 68}{82 97}{56}\n",
      "7: {4 16 91}{95}\n",
      "Fase 1 1.50\n",
      "1: {35 90}\n",
      "2: {55}\n",
      "3: {30 47 73}\n",
      "4: {10 45}\n",
      "5: {13 75}\n",
      "6: {56}\n",
      "8: {3 4 16 28 36 40 61 68 71 72 87 91 96}{8 11 24 34 48 59 60 76 82 95 97 98}\n",
      "Fase 2 6.00\n",
      "7: {3 4 10 13 16 28 30 35 36 40 45 47 55 56 61 68 71 72 73 75 87 90 91 96}\n",
      "8: {8 11 24 34 48 59 60 76 82 95 97 98}\n",
      "Fase 3 12.00\n",
      "1: {3 4 8 10 11 13 16 24 28 30 34 35 36 40 45 47 48 55 56 59 60 61 68 71 72 73 75 76 82 87 90 91 95 96 97 98}\n",
      "Final 2.36\n"
     ]
    }
   ],
   "source": [
    "Ordenador().ordenar('P', 3, 8, 20, 100, None, True,True)"
   ]
  }
 ],
 "metadata": {
  "kernelspec": {
   "display_name": "Python 3",
   "language": "python",
   "name": "python3"
  },
  "language_info": {
   "codemirror_mode": {
    "name": "ipython",
    "version": 3
   },
   "file_extension": ".py",
   "mimetype": "text/x-python",
   "name": "python",
   "nbconvert_exporter": "python",
   "pygments_lexer": "ipython3",
   "version": "3.10.12"
  }
 },
 "nbformat": 4,
 "nbformat_minor": 2
}
