{
 "cells": [
  {
   "cell_type": "code",
   "execution_count": 2,
   "metadata": {},
   "outputs": [],
   "source": [
    "from GeradorExperimentos import GeradorExperimentos\n",
    "from JsonManager import saveJson"
   ]
  },
  {
   "cell_type": "code",
   "execution_count": 3,
   "metadata": {},
   "outputs": [],
   "source": [
    "%load_ext autoreload\n",
    "%autoreload 2"
   ]
  },
  {
   "cell_type": "code",
   "execution_count": 4,
   "metadata": {},
   "outputs": [],
   "source": [
    "g = GeradorExperimentos(3, 8, 200000)"
   ]
  },
  {
   "cell_type": "markdown",
   "metadata": {},
   "source": [
    "## Alphas para cada método"
   ]
  },
  {
   "cell_type": "markdown",
   "metadata": {},
   "source": [
    "Multicaminhos"
   ]
  },
  {
   "cell_type": "code",
   "execution_count": 4,
   "metadata": {},
   "outputs": [
    {
     "name": "stderr",
     "output_type": "stream",
     "text": [
      "  0%|          | 0/351 [00:00<?, ?it/s, R: 10]"
     ]
    },
    {
     "name": "stderr",
     "output_type": "stream",
     "text": [
      " 21%|██        | 72/351 [00:18<01:13,  3.79it/s, R: 720]\n"
     ]
    },
    {
     "ename": "KeyboardInterrupt",
     "evalue": "",
     "output_type": "error",
     "traceback": [
      "\u001b[0;31m---------------------------------------------------------------------------\u001b[0m",
      "\u001b[0;31mKeyboardInterrupt\u001b[0m                         Traceback (most recent call last)",
      "Cell \u001b[0;32mIn[4], line 1\u001b[0m\n\u001b[0;32m----> 1\u001b[0m dctt_alpha_B \u001b[38;5;241m=\u001b[39m \u001b[43mg\u001b[49m\u001b[38;5;241;43m.\u001b[39;49m\u001b[43mgetAlphaDict\u001b[49m\u001b[43m(\u001b[49m\u001b[38;5;241;43m50000\u001b[39;49m\u001b[43m,\u001b[49m\u001b[43m \u001b[49m\u001b[38;5;124;43m\"\u001b[39;49m\u001b[38;5;124;43mB\u001b[39;49m\u001b[38;5;124;43m\"\u001b[39;49m\u001b[43m,\u001b[49m\u001b[43m \u001b[49m\u001b[38;5;241;43m10\u001b[39;49m\u001b[43m)\u001b[49m\n\u001b[1;32m      2\u001b[0m saveJson(dctt_alpha_B, \u001b[38;5;124m\"\u001b[39m\u001b[38;5;124malphaMultiCaminhos.json\u001b[39m\u001b[38;5;124m\"\u001b[39m, \u001b[38;5;124m\"\u001b[39m\u001b[38;5;124mbetas_e_alphas\u001b[39m\u001b[38;5;124m\"\u001b[39m)\n",
      "File \u001b[0;32m~/workspace/ufba/eda/ordenacao_externa_eda2/GeradorExperimentos.py:42\u001b[0m, in \u001b[0;36mGeradorExperimentos.getAlphaDict\u001b[0;34m(self, n, mode, numero_de_iteracoes)\u001b[0m\n\u001b[1;32m     40\u001b[0m     dct[i][j] \u001b[38;5;241m=\u001b[39m {}\n\u001b[1;32m     41\u001b[0m \u001b[38;5;28;01mfor\u001b[39;00m l \u001b[38;5;129;01min\u001b[39;00m \u001b[38;5;28mrange\u001b[39m(numero_de_iteracoes):\n\u001b[0;32m---> 42\u001b[0m     \u001b[38;5;28;43mself\u001b[39;49m\u001b[38;5;241;43m.\u001b[39;49m\u001b[43mordenador\u001b[49m\u001b[38;5;241;43m.\u001b[39;49m\u001b[43mordenar\u001b[49m\u001b[43m(\u001b[49m\u001b[43mmode\u001b[49m\u001b[43m,\u001b[49m\u001b[43m \u001b[49m\u001b[38;5;28;43mself\u001b[39;49m\u001b[38;5;241;43m.\u001b[39;49m\u001b[43mconst_m\u001b[49m\u001b[43m,\u001b[49m\u001b[43m \u001b[49m\u001b[43mj\u001b[49m\u001b[43m,\u001b[49m\u001b[43m \u001b[49m\u001b[43mi\u001b[49m\u001b[43m,\u001b[49m\u001b[43m \u001b[49m\u001b[43mn\u001b[49m\u001b[43m,\u001b[49m\u001b[43m \u001b[49m\u001b[38;5;28;43;01mNone\u001b[39;49;00m\u001b[43m,\u001b[49m\u001b[43m \u001b[49m\u001b[38;5;28;43;01mTrue\u001b[39;49;00m\u001b[43m,\u001b[49m\u001b[43m \u001b[49m\u001b[38;5;28;43;01mFalse\u001b[39;49;00m\u001b[43m)\u001b[49m\n\u001b[1;32m     43\u001b[0m     alpha_total \u001b[38;5;241m+\u001b[39m\u001b[38;5;241m=\u001b[39m \u001b[38;5;28mself\u001b[39m\u001b[38;5;241m.\u001b[39mordenador\u001b[38;5;241m.\u001b[39malpha\n\u001b[1;32m     45\u001b[0m dct[i][j] \u001b[38;5;241m=\u001b[39m \u001b[38;5;28mround\u001b[39m(alpha_total\u001b[38;5;241m/\u001b[39mnumero_de_iteracoes,\u001b[38;5;241m4\u001b[39m)\n",
      "File \u001b[0;32m~/workspace/ufba/eda/ordenacao_externa_eda2/Ordenador.py:31\u001b[0m, in \u001b[0;36mOrdenador.ordenar\u001b[0;34m(self, method, m, k, r, n, registros, teste, to_print)\u001b[0m\n\u001b[1;32m     29\u001b[0m \u001b[38;5;28;01mmatch\u001b[39;00m method:\n\u001b[1;32m     30\u001b[0m     \u001b[38;5;28;01mcase\u001b[39;00m \u001b[38;5;124m\"\u001b[39m\u001b[38;5;124mB\u001b[39m\u001b[38;5;124m\"\u001b[39m:\n\u001b[0;32m---> 31\u001b[0m         \u001b[38;5;28;43mself\u001b[39;49m\u001b[38;5;241;43m.\u001b[39;49m\u001b[43mbalanceadaMultiCaminhos\u001b[49m\u001b[43m(\u001b[49m\u001b[43mm\u001b[49m\u001b[43m,\u001b[49m\u001b[43m \u001b[49m\u001b[43mto_print\u001b[49m\u001b[43m,\u001b[49m\u001b[43m \u001b[49m\u001b[43m)\u001b[49m\n\u001b[1;32m     32\u001b[0m     \u001b[38;5;28;01mcase\u001b[39;00m \u001b[38;5;124m\"\u001b[39m\u001b[38;5;124mP\u001b[39m\u001b[38;5;124m\"\u001b[39m:\n\u001b[1;32m     33\u001b[0m         \u001b[38;5;28mself\u001b[39m\u001b[38;5;241m.\u001b[39mpolifasica(m, to_print)\n",
      "File \u001b[0;32m~/workspace/ufba/eda/ordenacao_externa_eda2/Ordenador.py:177\u001b[0m, in \u001b[0;36mOrdenador.balanceadaMultiCaminhos\u001b[0;34m(self, m, to_print)\u001b[0m\n\u001b[1;32m    175\u001b[0m         \u001b[38;5;28;01mif\u001b[39;00m (\u001b[38;5;28mself\u001b[39m\u001b[38;5;241m.\u001b[39misOrdered() \u001b[38;5;129;01mor\u001b[39;00m filled[\u001b[38;5;241m0\u001b[39m]\u001b[38;5;241m.\u001b[39misEmpty()):\n\u001b[1;32m    176\u001b[0m             \u001b[38;5;28;01mbreak\u001b[39;00m\n\u001b[0;32m--> 177\u001b[0m         writes \u001b[38;5;241m+\u001b[39m\u001b[38;5;241m=\u001b[39m \u001b[38;5;28;43mself\u001b[39;49m\u001b[38;5;241;43m.\u001b[39;49m\u001b[43mintercalar\u001b[49m\u001b[43m(\u001b[49m\u001b[43mfilled\u001b[49m\u001b[43m,\u001b[49m\u001b[43m \u001b[49m\u001b[43mx\u001b[49m\u001b[43m)\u001b[49m\n\u001b[1;32m    178\u001b[0m         [x\u001b[38;5;241m.\u001b[39mactive() \u001b[38;5;28;01mfor\u001b[39;00m x \u001b[38;5;129;01min\u001b[39;00m filled \u001b[38;5;28;01mif\u001b[39;00m x\u001b[38;5;241m.\u001b[39misBlocked()]\n\u001b[1;32m    180\u001b[0m count\u001b[38;5;241m+\u001b[39m\u001b[38;5;241m=\u001b[39m\u001b[38;5;241m1\u001b[39m\n",
      "File \u001b[0;32m~/workspace/ufba/eda/ordenacao_externa_eda2/Ordenador.py:207\u001b[0m, in \u001b[0;36mOrdenador.intercalar\u001b[0;34m(self, filled, target)\u001b[0m\n\u001b[1;32m    204\u001b[0m     new_sequence\u001b[38;5;241m.\u001b[39mappend(item)\n\u001b[1;32m    205\u001b[0m     nWrites \u001b[38;5;241m+\u001b[39m\u001b[38;5;241m=\u001b[39m \u001b[38;5;241m1\u001b[39m\n\u001b[0;32m--> 207\u001b[0m \u001b[43mtarget\u001b[49m\u001b[38;5;241;43m.\u001b[39;49m\u001b[43madd\u001b[49m\u001b[43m(\u001b[49m\u001b[43mnew_sequence\u001b[49m\u001b[43m,\u001b[49m\u001b[43m \u001b[49m\u001b[43mtarget\u001b[49m\u001b[38;5;241;43m.\u001b[39;49m\u001b[43mindex\u001b[49m\u001b[43m)\u001b[49m\n\u001b[1;32m    208\u001b[0m \u001b[38;5;28;01mreturn\u001b[39;00m nWrites\n",
      "File \u001b[0;32m~/workspace/ufba/eda/ordenacao_externa_eda2/Pagina.py:49\u001b[0m, in \u001b[0;36mPagina.add\u001b[0;34m(self, sequence, index)\u001b[0m\n\u001b[1;32m     47\u001b[0m \u001b[38;5;28;01mdef\u001b[39;00m \u001b[38;5;21madd\u001b[39m(\u001b[38;5;28mself\u001b[39m, sequence:deque[Registro], index:\u001b[38;5;28mint\u001b[39m):\n\u001b[1;32m     48\u001b[0m     \u001b[38;5;28;01mfor\u001b[39;00m elem \u001b[38;5;129;01min\u001b[39;00m sequence:\n\u001b[0;32m---> 49\u001b[0m         \u001b[43melem\u001b[49m\u001b[38;5;241;43m.\u001b[39;49m\u001b[43msetIndex\u001b[49m\u001b[43m(\u001b[49m\u001b[43mindex\u001b[49m\u001b[43m)\u001b[49m\n\u001b[1;32m     50\u001b[0m         elem\u001b[38;5;241m.\u001b[39mdelFlag()\n\u001b[1;32m     51\u001b[0m     \u001b[38;5;28mself\u001b[39m\u001b[38;5;241m.\u001b[39mregistros\u001b[38;5;241m.\u001b[39mappend(sequence)\n",
      "File \u001b[0;32m~/workspace/ufba/eda/ordenacao_externa_eda2/Registro.py:13\u001b[0m, in \u001b[0;36mRegistro.setIndex\u001b[0;34m(self, index)\u001b[0m\n\u001b[1;32m     10\u001b[0m \u001b[38;5;28;01mdef\u001b[39;00m \u001b[38;5;21mdelFlag\u001b[39m(\u001b[38;5;28mself\u001b[39m):\n\u001b[1;32m     11\u001b[0m     \u001b[38;5;28mself\u001b[39m\u001b[38;5;241m.\u001b[39mflag \u001b[38;5;241m=\u001b[39m \u001b[38;5;241m0\u001b[39m\n\u001b[0;32m---> 13\u001b[0m \u001b[38;5;28;01mdef\u001b[39;00m \u001b[38;5;21msetIndex\u001b[39m(\u001b[38;5;28mself\u001b[39m, index:\u001b[38;5;28mint\u001b[39m):\n\u001b[1;32m     14\u001b[0m     \u001b[38;5;28mself\u001b[39m\u001b[38;5;241m.\u001b[39mindex\u001b[38;5;241m=\u001b[39mindex\n\u001b[1;32m     16\u001b[0m \u001b[38;5;28;01mdef\u001b[39;00m \u001b[38;5;21m__lt__\u001b[39m(\u001b[38;5;28mself\u001b[39m, other: \u001b[38;5;124m'\u001b[39m\u001b[38;5;124mRegistro\u001b[39m\u001b[38;5;124m'\u001b[39m) \u001b[38;5;241m-\u001b[39m\u001b[38;5;241m>\u001b[39m \u001b[38;5;28mbool\u001b[39m:\n",
      "\u001b[0;31mKeyboardInterrupt\u001b[0m: "
     ]
    }
   ],
   "source": [
    "dctt_alpha_B = g.getAlphaDict(50000, \"B\", 10)\n",
    "saveJson(dctt_alpha_B, \"alphaMultiCaminhos.json\", \"betas_e_alphas\")"
   ]
  },
  {
   "cell_type": "markdown",
   "metadata": {},
   "source": [
    "Polifásica"
   ]
  },
  {
   "cell_type": "code",
   "execution_count": null,
   "metadata": {},
   "outputs": [],
   "source": [
    "dctt_alpha_P = g.getAlphaDict(50000, \"P\", 10)\n",
    "saveJson(dctt_alpha_P, \"alphaPolifasica.json\", \"betas_e_alphas\")"
   ]
  },
  {
   "cell_type": "markdown",
   "metadata": {},
   "source": [
    "Cascata"
   ]
  },
  {
   "cell_type": "code",
   "execution_count": null,
   "metadata": {},
   "outputs": [
    {
     "name": "stderr",
     "output_type": "stream",
     "text": [
      "100%|██████████| 351/351 [29:35<00:00,  5.06s/it, R: 5000]\n"
     ]
    }
   ],
   "source": [
    "dctt_alpha_C = g.getAlphaDict(50000, \"C\", 10)\n",
    "saveJson(dctt_alpha_C, \"alphaCascata.json\", \"betas_e_alphas\")"
   ]
  },
  {
   "cell_type": "markdown",
   "metadata": {},
   "source": [
    "## Beta(m, 0) para cada método"
   ]
  },
  {
   "cell_type": "markdown",
   "metadata": {},
   "source": [
    "multiCaminhos"
   ]
  },
  {
   "cell_type": "code",
   "execution_count": 5,
   "metadata": {},
   "outputs": [
    {
     "name": "stderr",
     "output_type": "stream",
     "text": [
      "  0%|          | 0/5 [00:04<?, ?it/s]\n"
     ]
    },
    {
     "ename": "KeyboardInterrupt",
     "evalue": "",
     "output_type": "error",
     "traceback": [
      "\u001b[0;31m---------------------------------------------------------------------------\u001b[0m",
      "\u001b[0;31mKeyboardInterrupt\u001b[0m                         Traceback (most recent call last)",
      "Cell \u001b[0;32mIn[5], line 1\u001b[0m\n\u001b[0;32m----> 1\u001b[0m dctt_beta_B \u001b[38;5;241m=\u001b[39m \u001b[43mg\u001b[49m\u001b[38;5;241;43m.\u001b[39;49m\u001b[43mgetBetaDict\u001b[49m\u001b[43m(\u001b[49m\u001b[38;5;241;43m100000\u001b[39;49m\u001b[43m,\u001b[49m\u001b[43m \u001b[49m\u001b[38;5;124;43m\"\u001b[39;49m\u001b[38;5;124;43mB\u001b[39;49m\u001b[38;5;124;43m\"\u001b[39;49m\u001b[43m,\u001b[49m\u001b[43m \u001b[49m\u001b[38;5;241;43m10\u001b[39;49m\u001b[43m)\u001b[49m\n\u001b[1;32m      2\u001b[0m saveJson(dctt_beta_B, \u001b[38;5;124m\"\u001b[39m\u001b[38;5;124mbetaMultiCaminhos.json\u001b[39m\u001b[38;5;124m\"\u001b[39m, \u001b[38;5;124m\"\u001b[39m\u001b[38;5;124mbetas_e_alphas\u001b[39m\u001b[38;5;124m\"\u001b[39m)\n",
      "File \u001b[0;32m~/workspace/ufba/eda/ordenacao_externa_eda2/GeradorExperimentos.py:58\u001b[0m, in \u001b[0;36mGeradorExperimentos.getBetaDict\u001b[0;34m(self, n, mode, numero_de_iteracoes)\u001b[0m\n\u001b[1;32m     56\u001b[0m     dct[j] \u001b[38;5;241m=\u001b[39m {}\n\u001b[1;32m     57\u001b[0m \u001b[38;5;28;01mfor\u001b[39;00m l \u001b[38;5;129;01min\u001b[39;00m \u001b[38;5;28mrange\u001b[39m(numero_de_iteracoes):\n\u001b[0;32m---> 58\u001b[0m     \u001b[38;5;28;43mself\u001b[39;49m\u001b[38;5;241;43m.\u001b[39;49m\u001b[43mordenador\u001b[49m\u001b[38;5;241;43m.\u001b[39;49m\u001b[43mordenar\u001b[49m\u001b[43m(\u001b[49m\u001b[43mmode\u001b[49m\u001b[43m,\u001b[49m\u001b[43m \u001b[49m\u001b[43mj\u001b[49m\u001b[43m,\u001b[49m\u001b[43m \u001b[49m\u001b[38;5;28;43mself\u001b[39;49m\u001b[38;5;241;43m.\u001b[39;49m\u001b[43mconst_k\u001b[49m\u001b[43m,\u001b[49m\u001b[38;5;28;43mself\u001b[39;49m\u001b[38;5;241;43m.\u001b[39;49m\u001b[43mconst_r\u001b[49m\u001b[43m,\u001b[49m\u001b[43m \u001b[49m\u001b[43mn\u001b[49m\u001b[43m,\u001b[49m\u001b[43m \u001b[49m\u001b[43mnp\u001b[49m\u001b[38;5;241;43m.\u001b[39;49m\u001b[43mrandom\u001b[49m\u001b[38;5;241;43m.\u001b[39;49m\u001b[43mpermutation\u001b[49m\u001b[43m(\u001b[49m\u001b[43mn\u001b[49m\u001b[43m)\u001b[49m\u001b[43m,\u001b[49m\u001b[43m \u001b[49m\u001b[38;5;28;43;01mFalse\u001b[39;49;00m\u001b[43m,\u001b[49m\u001b[43m \u001b[49m\u001b[38;5;28;43;01mFalse\u001b[39;49;00m\u001b[43m)\u001b[49m\n\u001b[1;32m     59\u001b[0m     beta0_total \u001b[38;5;241m+\u001b[39m\u001b[38;5;241m=\u001b[39m \u001b[38;5;28mself\u001b[39m\u001b[38;5;241m.\u001b[39mordenador\u001b[38;5;241m.\u001b[39mbetas[\u001b[38;5;241m0\u001b[39m]\n\u001b[1;32m     61\u001b[0m dct[j] \u001b[38;5;241m=\u001b[39m \u001b[38;5;28mround\u001b[39m(beta0_total\u001b[38;5;241m/\u001b[39mnumero_de_iteracoes,\u001b[38;5;241m4\u001b[39m)\n",
      "File \u001b[0;32m~/workspace/ufba/eda/ordenacao_externa_eda2/Ordenador.py:31\u001b[0m, in \u001b[0;36mOrdenador.ordenar\u001b[0;34m(self, method, m, k, r, n, registros, teste, to_print)\u001b[0m\n\u001b[1;32m     29\u001b[0m \u001b[38;5;28;01mmatch\u001b[39;00m method:\n\u001b[1;32m     30\u001b[0m     \u001b[38;5;28;01mcase\u001b[39;00m \u001b[38;5;124m\"\u001b[39m\u001b[38;5;124mB\u001b[39m\u001b[38;5;124m\"\u001b[39m:\n\u001b[0;32m---> 31\u001b[0m         \u001b[38;5;28;43mself\u001b[39;49m\u001b[38;5;241;43m.\u001b[39;49m\u001b[43mbalanceadaMultiCaminhos\u001b[49m\u001b[43m(\u001b[49m\u001b[43mm\u001b[49m\u001b[43m,\u001b[49m\u001b[43m \u001b[49m\u001b[43mto_print\u001b[49m\u001b[43m,\u001b[49m\u001b[43m \u001b[49m\u001b[43m)\u001b[49m\n\u001b[1;32m     32\u001b[0m     \u001b[38;5;28;01mcase\u001b[39;00m \u001b[38;5;124m\"\u001b[39m\u001b[38;5;124mP\u001b[39m\u001b[38;5;124m\"\u001b[39m:\n\u001b[1;32m     33\u001b[0m         \u001b[38;5;28mself\u001b[39m\u001b[38;5;241m.\u001b[39mpolifasica(m, to_print)\n",
      "File \u001b[0;32m~/workspace/ufba/eda/ordenacao_externa_eda2/Ordenador.py:172\u001b[0m, in \u001b[0;36mOrdenador.balanceadaMultiCaminhos\u001b[0;34m(self, m, to_print)\u001b[0m\n\u001b[1;32m    170\u001b[0m         \u001b[38;5;28;01mif\u001b[39;00m (\u001b[38;5;28mself\u001b[39m\u001b[38;5;241m.\u001b[39misOrdered() \u001b[38;5;129;01mor\u001b[39;00m filled[\u001b[38;5;241m0\u001b[39m]\u001b[38;5;241m.\u001b[39misEmpty()):\n\u001b[1;32m    171\u001b[0m             \u001b[38;5;28;01mbreak\u001b[39;00m\n\u001b[0;32m--> 172\u001b[0m         writes \u001b[38;5;241m+\u001b[39m\u001b[38;5;241m=\u001b[39m \u001b[38;5;28;43mself\u001b[39;49m\u001b[38;5;241;43m.\u001b[39;49m\u001b[43mintercalar\u001b[49m\u001b[43m(\u001b[49m\u001b[43mfilled\u001b[49m\u001b[43m,\u001b[49m\u001b[43m \u001b[49m\u001b[43mx\u001b[49m\u001b[43m)\u001b[49m\n\u001b[1;32m    173\u001b[0m         [x\u001b[38;5;241m.\u001b[39mactive() \u001b[38;5;28;01mfor\u001b[39;00m x \u001b[38;5;129;01min\u001b[39;00m filled \u001b[38;5;28;01mif\u001b[39;00m x\u001b[38;5;241m.\u001b[39misBlocked()]\n\u001b[1;32m    175\u001b[0m count\u001b[38;5;241m+\u001b[39m\u001b[38;5;241m=\u001b[39m\u001b[38;5;241m1\u001b[39m\n",
      "File \u001b[0;32m~/workspace/ufba/eda/ordenacao_externa_eda2/Ordenador.py:195\u001b[0m, in \u001b[0;36mOrdenador.intercalar\u001b[0;34m(self, filled, target)\u001b[0m\n\u001b[1;32m    192\u001b[0m new_sequence \u001b[38;5;241m=\u001b[39m deque()  \u001b[38;5;66;03m#new_sequence representa a nova sequência que será gerada\u001b[39;00m\n\u001b[1;32m    194\u001b[0m \u001b[38;5;66;03m#intercalação propriamente dita utilizando heap mim\u001b[39;00m\n\u001b[0;32m--> 195\u001b[0m \u001b[38;5;28;01mwhile\u001b[39;00m(\u001b[38;5;28;43mlen\u001b[39;49m\u001b[43m(\u001b[49m\u001b[43mheap\u001b[49m\u001b[43m)\u001b[49m \u001b[38;5;241m>\u001b[39m \u001b[38;5;241m0\u001b[39m):\n\u001b[1;32m    196\u001b[0m     item \u001b[38;5;241m=\u001b[39m heap\u001b[38;5;241m.\u001b[39mpop()\n\u001b[1;32m    197\u001b[0m     \u001b[38;5;28;01mif\u001b[39;00m (\u001b[38;5;129;01mnot\u001b[39;00m \u001b[38;5;28mself\u001b[39m\u001b[38;5;241m.\u001b[39mpaginas[item\u001b[38;5;241m.\u001b[39mindex]\u001b[38;5;241m.\u001b[39misBlocked()):\n",
      "File \u001b[0;32m~/workspace/ufba/eda/ordenacao_externa_eda2/Heap.py:23\u001b[0m, in \u001b[0;36mHeap.__len__\u001b[0;34m(self)\u001b[0m\n\u001b[1;32m     20\u001b[0m \u001b[38;5;28;01mdef\u001b[39;00m \u001b[38;5;21misEmpty\u001b[39m(\u001b[38;5;28mself\u001b[39m):\n\u001b[1;32m     21\u001b[0m     \u001b[38;5;28;01mreturn\u001b[39;00m (\u001b[38;5;28mlen\u001b[39m(\u001b[38;5;28mself\u001b[39m\u001b[38;5;241m.\u001b[39mheap) \u001b[38;5;241m<\u001b[39m \u001b[38;5;241m1\u001b[39m) \n\u001b[0;32m---> 23\u001b[0m \u001b[38;5;28;01mdef\u001b[39;00m \u001b[38;5;21m__len__\u001b[39m(\u001b[38;5;28mself\u001b[39m):\n\u001b[1;32m     24\u001b[0m     \u001b[38;5;28;01mreturn\u001b[39;00m \u001b[38;5;28mlen\u001b[39m(\u001b[38;5;28mself\u001b[39m\u001b[38;5;241m.\u001b[39mheap)\n\u001b[1;32m     26\u001b[0m \u001b[38;5;28;01mdef\u001b[39;00m \u001b[38;5;21m__getitem__\u001b[39m(\u001b[38;5;28mself\u001b[39m, index):\n",
      "\u001b[0;31mKeyboardInterrupt\u001b[0m: "
     ]
    }
   ],
   "source": [
    "dctt_beta_B = g.getBetaDict(100000, \"B\", 10)\n",
    "saveJson(dctt_beta_B, \"betaMultiCaminhos.json\", \"betas_e_alphas\")"
   ]
  },
  {
   "cell_type": "markdown",
   "metadata": {},
   "source": [
    "Cascata"
   ]
  },
  {
   "cell_type": "code",
   "execution_count": 18,
   "metadata": {},
   "outputs": [
    {
     "name": "stderr",
     "output_type": "stream",
     "text": [
      "  0%|          | 0/5 [00:01<?, ?it/s]\n"
     ]
    },
    {
     "ename": "IndexError",
     "evalue": "deque index out of range",
     "output_type": "error",
     "traceback": [
      "\u001b[0;31m---------------------------------------------------------------------------\u001b[0m",
      "\u001b[0;31mIndexError\u001b[0m                                Traceback (most recent call last)",
      "Cell \u001b[0;32mIn[18], line 1\u001b[0m\n\u001b[0;32m----> 1\u001b[0m dctt_beta_C \u001b[38;5;241m=\u001b[39m \u001b[43mg\u001b[49m\u001b[38;5;241;43m.\u001b[39;49m\u001b[43mgetBetaDict\u001b[49m\u001b[43m(\u001b[49m\u001b[38;5;241;43m100000\u001b[39;49m\u001b[43m,\u001b[49m\u001b[43m \u001b[49m\u001b[38;5;124;43m\"\u001b[39;49m\u001b[38;5;124;43mC\u001b[39;49m\u001b[38;5;124;43m\"\u001b[39;49m\u001b[43m,\u001b[49m\u001b[43m \u001b[49m\u001b[38;5;241;43m10\u001b[39;49m\u001b[43m)\u001b[49m\n\u001b[1;32m      2\u001b[0m saveJson(dctt_beta_C, \u001b[38;5;124m\"\u001b[39m\u001b[38;5;124mbetaCascata.json\u001b[39m\u001b[38;5;124m\"\u001b[39m, \u001b[38;5;124m\"\u001b[39m\u001b[38;5;124mbetas_e_alphas\u001b[39m\u001b[38;5;124m\"\u001b[39m)\n",
      "File \u001b[0;32m~/workspace/ufba/eda/ordenacao_externa_eda2/GeradorExperimentos.py:58\u001b[0m, in \u001b[0;36mGeradorExperimentos.getBetaDict\u001b[0;34m(self, n, mode, numero_de_iteracoes)\u001b[0m\n\u001b[1;32m     56\u001b[0m     dct[j] \u001b[38;5;241m=\u001b[39m {}\n\u001b[1;32m     57\u001b[0m \u001b[38;5;28;01mfor\u001b[39;00m l \u001b[38;5;129;01min\u001b[39;00m \u001b[38;5;28mrange\u001b[39m(numero_de_iteracoes):\n\u001b[0;32m---> 58\u001b[0m     \u001b[38;5;28;43mself\u001b[39;49m\u001b[38;5;241;43m.\u001b[39;49m\u001b[43mordenador\u001b[49m\u001b[38;5;241;43m.\u001b[39;49m\u001b[43mordenar\u001b[49m\u001b[43m(\u001b[49m\u001b[43mmode\u001b[49m\u001b[43m,\u001b[49m\u001b[43m \u001b[49m\u001b[43mj\u001b[49m\u001b[43m,\u001b[49m\u001b[43m \u001b[49m\u001b[38;5;28;43mself\u001b[39;49m\u001b[38;5;241;43m.\u001b[39;49m\u001b[43mconst_k\u001b[49m\u001b[43m,\u001b[49m\u001b[38;5;28;43mself\u001b[39;49m\u001b[38;5;241;43m.\u001b[39;49m\u001b[43mconst_r\u001b[49m\u001b[43m,\u001b[49m\u001b[43m \u001b[49m\u001b[43mn\u001b[49m\u001b[43m,\u001b[49m\u001b[43m \u001b[49m\u001b[43mnp\u001b[49m\u001b[38;5;241;43m.\u001b[39;49m\u001b[43mrandom\u001b[49m\u001b[38;5;241;43m.\u001b[39;49m\u001b[43mpermutation\u001b[49m\u001b[43m(\u001b[49m\u001b[43mn\u001b[49m\u001b[43m)\u001b[49m\u001b[43m,\u001b[49m\u001b[43m \u001b[49m\u001b[38;5;28;43;01mFalse\u001b[39;49;00m\u001b[43m,\u001b[49m\u001b[43m \u001b[49m\u001b[38;5;28;43;01mFalse\u001b[39;49;00m\u001b[43m)\u001b[49m\n\u001b[1;32m     59\u001b[0m     beta0_total \u001b[38;5;241m+\u001b[39m\u001b[38;5;241m=\u001b[39m \u001b[38;5;28mself\u001b[39m\u001b[38;5;241m.\u001b[39mordenador\u001b[38;5;241m.\u001b[39mbetas[\u001b[38;5;241m0\u001b[39m]\n\u001b[1;32m     61\u001b[0m dct[j] \u001b[38;5;241m=\u001b[39m \u001b[38;5;28mround\u001b[39m(beta0_total\u001b[38;5;241m/\u001b[39mnumero_de_iteracoes,\u001b[38;5;241m4\u001b[39m)\n",
      "File \u001b[0;32m~/workspace/ufba/eda/ordenacao_externa_eda2/Ordenador.py:35\u001b[0m, in \u001b[0;36mOrdenador.ordenar\u001b[0;34m(self, method, m, k, r, n, registros, teste, to_print)\u001b[0m\n\u001b[1;32m     33\u001b[0m     \u001b[38;5;28mself\u001b[39m\u001b[38;5;241m.\u001b[39mpolifasica(m, to_print)\n\u001b[1;32m     34\u001b[0m \u001b[38;5;28;01mcase\u001b[39;00m \u001b[38;5;124m\"\u001b[39m\u001b[38;5;124mC\u001b[39m\u001b[38;5;124m\"\u001b[39m:\n\u001b[0;32m---> 35\u001b[0m     \u001b[38;5;28;43mself\u001b[39;49m\u001b[38;5;241;43m.\u001b[39;49m\u001b[43mcascata\u001b[49m\u001b[43m(\u001b[49m\u001b[43mm\u001b[49m\u001b[43m,\u001b[49m\u001b[43m \u001b[49m\u001b[43mto_print\u001b[49m\u001b[43m)\u001b[49m\n\u001b[1;32m     36\u001b[0m \u001b[38;5;28;01mcase\u001b[39;00m\u001b[38;5;250m \u001b[39m\u001b[38;5;28;01m_\u001b[39;00m:\n\u001b[1;32m     37\u001b[0m     \u001b[38;5;28mself\u001b[39m\u001b[38;5;241m.\u001b[39mbalanceadaMultiCaminhos(m, to_print)\n",
      "File \u001b[0;32m~/workspace/ufba/eda/ordenacao_externa_eda2/Ordenador.py:272\u001b[0m, in \u001b[0;36mOrdenador.cascata\u001b[0;34m(self, m, to_print)\u001b[0m\n\u001b[1;32m    270\u001b[0m \u001b[38;5;66;03m# até que a maior pagina seja esvaziada, tem que continuar intercalando\u001b[39;00m\n\u001b[1;32m    271\u001b[0m \u001b[38;5;28;01mwhile\u001b[39;00m(\u001b[38;5;129;01mnot\u001b[39;00m maiorPagina\u001b[38;5;241m.\u001b[39misEmpty()):\n\u001b[0;32m--> 272\u001b[0m     writes \u001b[38;5;241m+\u001b[39m\u001b[38;5;241m=\u001b[39m \u001b[38;5;28;43mself\u001b[39;49m\u001b[38;5;241;43m.\u001b[39;49m\u001b[43mintercalar\u001b[49m\u001b[43m(\u001b[49m\u001b[43mfilled\u001b[49m\u001b[43m,\u001b[49m\u001b[43m \u001b[49m\u001b[43mtarget\u001b[49m\u001b[43m)\u001b[49m\n\u001b[1;32m    273\u001b[0m     [x\u001b[38;5;241m.\u001b[39mactive() \u001b[38;5;28;01mfor\u001b[39;00m x \u001b[38;5;129;01min\u001b[39;00m filled \u001b[38;5;28;01mif\u001b[39;00m x\u001b[38;5;241m.\u001b[39misBlocked()]\n\u001b[1;32m    275\u001b[0m     \u001b[38;5;66;03m# se esvaziar alguma página no caminho, muda o alvo\u001b[39;00m\n",
      "File \u001b[0;32m~/workspace/ufba/eda/ordenacao_externa_eda2/Ordenador.py:203\u001b[0m, in \u001b[0;36mOrdenador.intercalar\u001b[0;34m(self, filled, target)\u001b[0m\n\u001b[1;32m    201\u001b[0m item \u001b[38;5;241m=\u001b[39m heap\u001b[38;5;241m.\u001b[39mpop()\n\u001b[1;32m    202\u001b[0m \u001b[38;5;28;01mif\u001b[39;00m (\u001b[38;5;129;01mnot\u001b[39;00m \u001b[38;5;28mself\u001b[39m\u001b[38;5;241m.\u001b[39mpaginas[item\u001b[38;5;241m.\u001b[39mindex]\u001b[38;5;241m.\u001b[39misBlocked()):\n\u001b[0;32m--> 203\u001b[0m     heap\u001b[38;5;241m.\u001b[39mpush(\u001b[38;5;28;43mself\u001b[39;49m\u001b[38;5;241;43m.\u001b[39;49m\u001b[43mpaginas\u001b[49m\u001b[43m[\u001b[49m\u001b[43mitem\u001b[49m\u001b[38;5;241;43m.\u001b[39;49m\u001b[43mindex\u001b[49m\u001b[43m]\u001b[49m\u001b[38;5;241;43m.\u001b[39;49m\u001b[43mpop\u001b[49m\u001b[43m(\u001b[49m\u001b[43m)\u001b[49m)\n\u001b[1;32m    204\u001b[0m new_sequence\u001b[38;5;241m.\u001b[39mappend(item)\n\u001b[1;32m    205\u001b[0m nWrites \u001b[38;5;241m+\u001b[39m\u001b[38;5;241m=\u001b[39m \u001b[38;5;241m1\u001b[39m\n",
      "File \u001b[0;32m~/workspace/ufba/eda/ordenacao_externa_eda2/Pagina.py:29\u001b[0m, in \u001b[0;36mPagina.pop\u001b[0;34m(self)\u001b[0m\n\u001b[1;32m     28\u001b[0m \u001b[38;5;28;01mdef\u001b[39;00m \u001b[38;5;21mpop\u001b[39m(\u001b[38;5;28mself\u001b[39m):\n\u001b[0;32m---> 29\u001b[0m     item \u001b[38;5;241m=\u001b[39m \u001b[38;5;28;43mself\u001b[39;49m\u001b[38;5;241;43m.\u001b[39;49m\u001b[43mregistros\u001b[49m\u001b[43m[\u001b[49m\u001b[38;5;241;43m0\u001b[39;49m\u001b[43m]\u001b[49m\u001b[38;5;241m.\u001b[39mpopleft()\n\u001b[1;32m     30\u001b[0m     \u001b[38;5;28;01mif\u001b[39;00m (\u001b[38;5;28mlen\u001b[39m(\u001b[38;5;28mself\u001b[39m\u001b[38;5;241m.\u001b[39mregistros[\u001b[38;5;241m0\u001b[39m]) \u001b[38;5;241m<\u001b[39m \u001b[38;5;241m1\u001b[39m): \u001b[38;5;28mself\u001b[39m\u001b[38;5;241m.\u001b[39mblocked \u001b[38;5;241m=\u001b[39m \u001b[38;5;28;01mTrue\u001b[39;00m\n\u001b[1;32m     31\u001b[0m     \u001b[38;5;28;01mreturn\u001b[39;00m item\n",
      "\u001b[0;31mIndexError\u001b[0m: deque index out of range"
     ]
    }
   ],
   "source": [
    "dctt_beta_C = g.getBetaDict(100000, \"C\", 10)\n",
    "saveJson(dctt_beta_C, \"betaCascata.json\", \"betas_e_alphas\")"
   ]
  },
  {
   "cell_type": "markdown",
   "metadata": {},
   "source": [
    "Polifásica"
   ]
  },
  {
   "cell_type": "code",
   "execution_count": 19,
   "metadata": {},
   "outputs": [
    {
     "name": "stderr",
     "output_type": "stream",
     "text": [
      "  0%|          | 0/5 [00:00<?, ?it/s]"
     ]
    },
    {
     "name": "stderr",
     "output_type": "stream",
     "text": [
      "  0%|          | 0/5 [00:01<?, ?it/s]\n"
     ]
    },
    {
     "ename": "IndexError",
     "evalue": "deque index out of range",
     "output_type": "error",
     "traceback": [
      "\u001b[0;31m---------------------------------------------------------------------------\u001b[0m",
      "\u001b[0;31mIndexError\u001b[0m                                Traceback (most recent call last)",
      "Cell \u001b[0;32mIn[19], line 1\u001b[0m\n\u001b[0;32m----> 1\u001b[0m dctt_beta_P \u001b[38;5;241m=\u001b[39m \u001b[43mg\u001b[49m\u001b[38;5;241;43m.\u001b[39;49m\u001b[43mgetBetaDict\u001b[49m\u001b[43m(\u001b[49m\u001b[38;5;241;43m100000\u001b[39;49m\u001b[43m,\u001b[49m\u001b[43m \u001b[49m\u001b[38;5;124;43m\"\u001b[39;49m\u001b[38;5;124;43mP\u001b[39;49m\u001b[38;5;124;43m\"\u001b[39;49m\u001b[43m,\u001b[49m\u001b[43m \u001b[49m\u001b[38;5;241;43m10\u001b[39;49m\u001b[43m)\u001b[49m\n\u001b[1;32m      2\u001b[0m saveJson(dctt_beta_P, \u001b[38;5;124m\"\u001b[39m\u001b[38;5;124mbetaPolifasica.json\u001b[39m\u001b[38;5;124m\"\u001b[39m, \u001b[38;5;124m\"\u001b[39m\u001b[38;5;124mbetas_e_alphas\u001b[39m\u001b[38;5;124m\"\u001b[39m)\n",
      "File \u001b[0;32m~/workspace/ufba/eda/ordenacao_externa_eda2/GeradorExperimentos.py:58\u001b[0m, in \u001b[0;36mGeradorExperimentos.getBetaDict\u001b[0;34m(self, n, mode, numero_de_iteracoes)\u001b[0m\n\u001b[1;32m     56\u001b[0m     dct[j] \u001b[38;5;241m=\u001b[39m {}\n\u001b[1;32m     57\u001b[0m \u001b[38;5;28;01mfor\u001b[39;00m l \u001b[38;5;129;01min\u001b[39;00m \u001b[38;5;28mrange\u001b[39m(numero_de_iteracoes):\n\u001b[0;32m---> 58\u001b[0m     \u001b[38;5;28;43mself\u001b[39;49m\u001b[38;5;241;43m.\u001b[39;49m\u001b[43mordenador\u001b[49m\u001b[38;5;241;43m.\u001b[39;49m\u001b[43mordenar\u001b[49m\u001b[43m(\u001b[49m\u001b[43mmode\u001b[49m\u001b[43m,\u001b[49m\u001b[43m \u001b[49m\u001b[43mj\u001b[49m\u001b[43m,\u001b[49m\u001b[43m \u001b[49m\u001b[38;5;28;43mself\u001b[39;49m\u001b[38;5;241;43m.\u001b[39;49m\u001b[43mconst_k\u001b[49m\u001b[43m,\u001b[49m\u001b[38;5;28;43mself\u001b[39;49m\u001b[38;5;241;43m.\u001b[39;49m\u001b[43mconst_r\u001b[49m\u001b[43m,\u001b[49m\u001b[43m \u001b[49m\u001b[43mn\u001b[49m\u001b[43m,\u001b[49m\u001b[43m \u001b[49m\u001b[43mnp\u001b[49m\u001b[38;5;241;43m.\u001b[39;49m\u001b[43mrandom\u001b[49m\u001b[38;5;241;43m.\u001b[39;49m\u001b[43mpermutation\u001b[49m\u001b[43m(\u001b[49m\u001b[43mn\u001b[49m\u001b[43m)\u001b[49m\u001b[43m,\u001b[49m\u001b[43m \u001b[49m\u001b[38;5;28;43;01mFalse\u001b[39;49;00m\u001b[43m,\u001b[49m\u001b[43m \u001b[49m\u001b[38;5;28;43;01mFalse\u001b[39;49;00m\u001b[43m)\u001b[49m\n\u001b[1;32m     59\u001b[0m     beta0_total \u001b[38;5;241m+\u001b[39m\u001b[38;5;241m=\u001b[39m \u001b[38;5;28mself\u001b[39m\u001b[38;5;241m.\u001b[39mordenador\u001b[38;5;241m.\u001b[39mbetas[\u001b[38;5;241m0\u001b[39m]\n\u001b[1;32m     61\u001b[0m dct[j] \u001b[38;5;241m=\u001b[39m \u001b[38;5;28mround\u001b[39m(beta0_total\u001b[38;5;241m/\u001b[39mnumero_de_iteracoes,\u001b[38;5;241m4\u001b[39m)\n",
      "File \u001b[0;32m~/workspace/ufba/eda/ordenacao_externa_eda2/Ordenador.py:33\u001b[0m, in \u001b[0;36mOrdenador.ordenar\u001b[0;34m(self, method, m, k, r, n, registros, teste, to_print)\u001b[0m\n\u001b[1;32m     31\u001b[0m     \u001b[38;5;28mself\u001b[39m\u001b[38;5;241m.\u001b[39mbalanceadaMultiCaminhos(m, to_print, )\n\u001b[1;32m     32\u001b[0m \u001b[38;5;28;01mcase\u001b[39;00m \u001b[38;5;124m\"\u001b[39m\u001b[38;5;124mP\u001b[39m\u001b[38;5;124m\"\u001b[39m:\n\u001b[0;32m---> 33\u001b[0m     \u001b[38;5;28;43mself\u001b[39;49m\u001b[38;5;241;43m.\u001b[39;49m\u001b[43mpolifasica\u001b[49m\u001b[43m(\u001b[49m\u001b[43mm\u001b[49m\u001b[43m,\u001b[49m\u001b[43m \u001b[49m\u001b[43mto_print\u001b[49m\u001b[43m)\u001b[49m\n\u001b[1;32m     34\u001b[0m \u001b[38;5;28;01mcase\u001b[39;00m \u001b[38;5;124m\"\u001b[39m\u001b[38;5;124mC\u001b[39m\u001b[38;5;124m\"\u001b[39m:\n\u001b[1;32m     35\u001b[0m     \u001b[38;5;28mself\u001b[39m\u001b[38;5;241m.\u001b[39mcascata(m, to_print)\n",
      "File \u001b[0;32m~/workspace/ufba/eda/ordenacao_externa_eda2/Ordenador.py:220\u001b[0m, in \u001b[0;36mOrdenador.polifasica\u001b[0;34m(self, m, to_print)\u001b[0m\n\u001b[1;32m    216\u001b[0m smallest_subsequence_page \u001b[38;5;241m=\u001b[39m \u001b[38;5;28mself\u001b[39m\u001b[38;5;241m.\u001b[39mget_smallest_page(filled)\n\u001b[1;32m    218\u001b[0m \u001b[38;5;28mself\u001b[39m\u001b[38;5;241m.\u001b[39mimprimir_resultados(filled, count, m, to_print)\n\u001b[0;32m--> 220\u001b[0m writes \u001b[38;5;241m+\u001b[39m\u001b[38;5;241m=\u001b[39m \u001b[38;5;28;43mself\u001b[39;49m\u001b[38;5;241;43m.\u001b[39;49m\u001b[43mintercalarPolifasica\u001b[49m\u001b[43m(\u001b[49m\u001b[43msmallest_subsequence_page\u001b[49m\u001b[43m,\u001b[49m\u001b[43m \u001b[49m\u001b[43mfilled\u001b[49m\u001b[43m,\u001b[49m\u001b[43m \u001b[49m\u001b[43mnotFilled\u001b[49m\u001b[43m[\u001b[49m\u001b[38;5;241;43m0\u001b[39;49m\u001b[43m]\u001b[49m\u001b[43m)\u001b[49m\n\u001b[1;32m    221\u001b[0m [x\u001b[38;5;241m.\u001b[39mactive() \u001b[38;5;28;01mfor\u001b[39;00m x \u001b[38;5;129;01min\u001b[39;00m filled \u001b[38;5;28;01mif\u001b[39;00m x\u001b[38;5;241m.\u001b[39misBlocked()]\n\u001b[1;32m    223\u001b[0m count\u001b[38;5;241m+\u001b[39m\u001b[38;5;241m=\u001b[39m\u001b[38;5;241m1\u001b[39m\n",
      "File \u001b[0;32m~/workspace/ufba/eda/ordenacao_externa_eda2/Ordenador.py:247\u001b[0m, in \u001b[0;36mOrdenador.intercalarPolifasica\u001b[0;34m(self, smallest_page, filled, target)\u001b[0m\n\u001b[1;32m    245\u001b[0m item \u001b[38;5;241m=\u001b[39m heap\u001b[38;5;241m.\u001b[39mpop()\n\u001b[1;32m    246\u001b[0m \u001b[38;5;28;01mif\u001b[39;00m (\u001b[38;5;129;01mnot\u001b[39;00m \u001b[38;5;28mself\u001b[39m\u001b[38;5;241m.\u001b[39mpaginas[item\u001b[38;5;241m.\u001b[39mindex]\u001b[38;5;241m.\u001b[39misBlocked()):\n\u001b[0;32m--> 247\u001b[0m     heap\u001b[38;5;241m.\u001b[39mpush(\u001b[38;5;28;43mself\u001b[39;49m\u001b[38;5;241;43m.\u001b[39;49m\u001b[43mpaginas\u001b[49m\u001b[43m[\u001b[49m\u001b[43mitem\u001b[49m\u001b[38;5;241;43m.\u001b[39;49m\u001b[43mindex\u001b[49m\u001b[43m]\u001b[49m\u001b[38;5;241;43m.\u001b[39;49m\u001b[43mpop\u001b[49m\u001b[43m(\u001b[49m\u001b[43m)\u001b[49m)\n\u001b[1;32m    248\u001b[0m new_sequence\u001b[38;5;241m.\u001b[39mappend(item)\n\u001b[1;32m    249\u001b[0m nWrites \u001b[38;5;241m+\u001b[39m\u001b[38;5;241m=\u001b[39m \u001b[38;5;241m1\u001b[39m\n",
      "File \u001b[0;32m~/workspace/ufba/eda/ordenacao_externa_eda2/Pagina.py:29\u001b[0m, in \u001b[0;36mPagina.pop\u001b[0;34m(self)\u001b[0m\n\u001b[1;32m     28\u001b[0m \u001b[38;5;28;01mdef\u001b[39;00m \u001b[38;5;21mpop\u001b[39m(\u001b[38;5;28mself\u001b[39m):\n\u001b[0;32m---> 29\u001b[0m     item \u001b[38;5;241m=\u001b[39m \u001b[38;5;28;43mself\u001b[39;49m\u001b[38;5;241;43m.\u001b[39;49m\u001b[43mregistros\u001b[49m\u001b[43m[\u001b[49m\u001b[38;5;241;43m0\u001b[39;49m\u001b[43m]\u001b[49m\u001b[38;5;241m.\u001b[39mpopleft()\n\u001b[1;32m     30\u001b[0m     \u001b[38;5;28;01mif\u001b[39;00m (\u001b[38;5;28mlen\u001b[39m(\u001b[38;5;28mself\u001b[39m\u001b[38;5;241m.\u001b[39mregistros[\u001b[38;5;241m0\u001b[39m]) \u001b[38;5;241m<\u001b[39m \u001b[38;5;241m1\u001b[39m): \u001b[38;5;28mself\u001b[39m\u001b[38;5;241m.\u001b[39mblocked \u001b[38;5;241m=\u001b[39m \u001b[38;5;28;01mTrue\u001b[39;00m\n\u001b[1;32m     31\u001b[0m     \u001b[38;5;28;01mreturn\u001b[39;00m item\n",
      "\u001b[0;31mIndexError\u001b[0m: deque index out of range"
     ]
    }
   ],
   "source": [
    "dctt_beta_P = g.getBetaDict(100000, \"P\", 10)\n",
    "saveJson(dctt_beta_P, \"betaPolifasica.json\", \"betas_e_alphas\")"
   ]
  }
 ],
 "metadata": {
  "kernelspec": {
   "display_name": "Python 3",
   "language": "python",
   "name": "python3"
  },
  "language_info": {
   "codemirror_mode": {
    "name": "ipython",
    "version": 3
   },
   "file_extension": ".py",
   "mimetype": "text/x-python",
   "name": "python",
   "nbconvert_exporter": "python",
   "pygments_lexer": "ipython3",
   "version": "3.10.12"
  }
 },
 "nbformat": 4,
 "nbformat_minor": 2
}
